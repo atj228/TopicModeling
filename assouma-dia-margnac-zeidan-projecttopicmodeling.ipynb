{
 "cells": [
  {
   "cell_type": "markdown",
   "metadata": {
    "_cell_guid": "fecc79fa-6a7f-49f3-a3ce-5e8318cedeee",
    "_uuid": "7725dc15-caa3-4362-b6c3-2fb0e71ffb17"
   },
   "source": [
    "# Joseph ASSOUMA, Issa DIA, Thomas MARGNAC et Carla ZEIDAN"
   ]
  },
  {
   "cell_type": "markdown",
   "metadata": {
    "_cell_guid": "d171a5ee-2f6f-40e0-9c26-7be0142b122d",
    "_uuid": "773cf26e-9072-45c8-aec8-5ed7aac78d2a"
   },
   "source": [
    "## Importation des librairies :"
   ]
  },
  {
   "cell_type": "code",
   "execution_count": 145,
   "metadata": {
    "_cell_guid": "3a7bd94f-d9c7-4ca2-9407-4e50129eb52b",
    "_uuid": "cb9c2912-fc2b-4034-a012-674d0edba250",
    "execution": {
     "iopub.execute_input": "2021-11-21T17:03:54.112605Z",
     "iopub.status.busy": "2021-11-21T17:03:54.111834Z",
     "iopub.status.idle": "2021-11-21T17:03:54.118444Z",
     "shell.execute_reply": "2021-11-21T17:03:54.117810Z",
     "shell.execute_reply.started": "2021-11-21T17:03:54.112559Z"
    },
    "jupyter": {
     "outputs_hidden": false
    }
   },
   "outputs": [],
   "source": [
    "import pandas as pd\n",
    "import numpy as np\n",
    "import string\n",
    "import unidecode\n",
    "import html\n",
    "from gensim.models.phrases import Phrases\n",
    "from gensim.models.ldamodel import LdaModel\n",
    "from gensim.models.nmf import Nmf\n",
    "from gensim.models import HdpModel\n",
    "import pyLDAvis.gensim_models\n",
    "import gensim.corpora as corpora\n",
    "from nltk.corpus import stopwords\n",
    "from nltk.stem import WordNetLemmatizer\n",
    "from gensim.models.coherencemodel import CoherenceModel\n",
    "from nltk import pos_tag\n",
    "import re\n",
    "from collections import Counter\n",
    "import itertools\n",
    "from itertools import chain\n",
    "import lda2vec\n",
    "import matplotlib.pyplot as plt\n",
    "import numpy as np"
   ]
  },
  {
   "cell_type": "markdown",
   "metadata": {
    "_cell_guid": "54dcc751-c46d-4e75-981e-4eb89f33e707",
    "_uuid": "f2f0fa0d-9eb1-4e19-9752-79311585681a"
   },
   "source": [
    "## Importation du dataset :"
   ]
  },
  {
   "cell_type": "code",
   "execution_count": 23,
   "metadata": {
    "_cell_guid": "3c38e98e-1d68-41e5-b9be-e78e4eca0fbb",
    "_uuid": "73a40061-add1-4178-b425-63fa2a277e4b",
    "execution": {
     "iopub.execute_input": "2021-11-21T13:42:03.014679Z",
     "iopub.status.busy": "2021-11-21T13:42:03.014165Z",
     "iopub.status.idle": "2021-11-21T13:42:05.809469Z",
     "shell.execute_reply": "2021-11-21T13:42:05.808804Z",
     "shell.execute_reply.started": "2021-11-21T13:42:03.014627Z"
    },
    "jupyter": {
     "outputs_hidden": false
    }
   },
   "outputs": [],
   "source": [
    "pathToDataset = \"News_Category_Dataset_v2.json\"\n",
    "df = pd.read_json(pathToDataset, lines=True, dtype={\"headline\": str})"
   ]
  },
  {
   "cell_type": "markdown",
   "metadata": {},
   "source": [
    "Voilà toutes les catégories du jeu de données, ces catégories pourraient nous être utiles pour comparer les résultats des algorithmes de Topic Modelling avec la vérité terrain."
   ]
  },
  {
   "cell_type": "code",
   "execution_count": 24,
   "metadata": {
    "execution": {
     "iopub.execute_input": "2021-11-21T13:42:05.811026Z",
     "iopub.status.busy": "2021-11-21T13:42:05.810687Z",
     "iopub.status.idle": "2021-11-21T13:42:05.935990Z",
     "shell.execute_reply": "2021-11-21T13:42:05.935134Z",
     "shell.execute_reply.started": "2021-11-21T13:42:05.810997Z"
    }
   },
   "outputs": [
    {
     "name": "stdout",
     "output_type": "stream",
     "text": [
      "Nombre de sujets :  41\n",
      "Sujets :  ['CRIME' 'ENTERTAINMENT' 'WORLD NEWS' 'IMPACT' 'POLITICS' 'WEIRD NEWS'\n",
      " 'BLACK VOICES' 'WOMEN' 'COMEDY' 'QUEER VOICES' 'SPORTS' 'BUSINESS'\n",
      " 'TRAVEL' 'MEDIA' 'TECH' 'RELIGION' 'SCIENCE' 'LATINO VOICES' 'EDUCATION'\n",
      " 'COLLEGE' 'PARENTS' 'ARTS & CULTURE' 'STYLE' 'GREEN' 'TASTE'\n",
      " 'HEALTHY LIVING' 'THE WORLDPOST' 'GOOD NEWS' 'WORLDPOST' 'FIFTY' 'ARTS'\n",
      " 'WELLNESS' 'PARENTING' 'HOME & LIVING' 'STYLE & BEAUTY' 'DIVORCE'\n",
      " 'WEDDINGS' 'FOOD & DRINK' 'MONEY' 'ENVIRONMENT' 'CULTURE & ARTS']\n"
     ]
    }
   ],
   "source": [
    "print(\"Nombre de sujets : \", len(df['category'].unique()))\n",
    "print(\"Sujets : \", df['category'].unique())"
   ]
  },
  {
   "cell_type": "markdown",
   "metadata": {},
   "source": [
    "## Data Pipeline"
   ]
  },
  {
   "cell_type": "markdown",
   "metadata": {},
   "source": [
    "Concernant notre data pipeline, voici les différentes étapes par lesquelles passent les textes :\n",
    "* **Qualité des données**: Nous nous assurons que chaque élément du jeu de données est bien un texte et qu'il n'y a pas de donnés manquantes.\n",
    "* **Suppréssion des éléments non-désirés**: Nous supprimons plusieurs éléments tels que les balises HTML, les erreurs d'encodage UTF-8, ou encore les adresses email.\n",
    "* **Unification des données**: Nous supprimons la ponctuation, les accents et les textes sont passés en minuscule.\n",
    "* **Conversion en liste de mots**: Nous convertissons chaque phrase en une liste de mots.\n",
    "* **Suppression de mots inutiles**: Nous supprimons les mots inutiles tels que 'the', 'of' ou encore 'a'.\n",
    "* **Creation de n-gram**: Nous re-créons des mots composés tels que \"New York City\" ou \"Donald Trump\".\n",
    "* **Lemmatisation**: Nous regroupons des groupes de mots en un lexique commun.\n",
    "* **Part of speech / Tagging**: Nous identifions le rôle de chaque mots (verbe, nom, etc ...)"
   ]
  },
  {
   "cell_type": "markdown",
   "metadata": {
    "_cell_guid": "0246ffa0-2c8b-4308-89a3-e85b1e15fba7",
    "_uuid": "d3b9b98c-6f06-4c13-9b0b-1a0f67ab218c"
   },
   "source": [
    "### On s'assure de la qualité des données :"
   ]
  },
  {
   "cell_type": "code",
   "execution_count": 25,
   "metadata": {
    "_cell_guid": "b6dcc554-bf8b-4811-b7f7-60797fb9d862",
    "_uuid": "fca9918f-513b-470d-82c7-6c49ae871c51",
    "execution": {
     "iopub.execute_input": "2021-11-21T13:42:05.937423Z",
     "iopub.status.busy": "2021-11-21T13:42:05.937185Z",
     "iopub.status.idle": "2021-11-21T13:42:05.942443Z",
     "shell.execute_reply": "2021-11-21T13:42:05.941783Z",
     "shell.execute_reply.started": "2021-11-21T13:42:05.937393Z"
    },
    "jupyter": {
     "outputs_hidden": false
    }
   },
   "outputs": [],
   "source": [
    "def checkQuality(textList):\n",
    "    \"\"\"\n",
    "    Description\n",
    "    -----------------\n",
    "    Check the quality of the dataset.\n",
    "    \n",
    "    Param\n",
    "    -----------------\n",
    "    textList: List of texts of the dataset.\n",
    "    \n",
    "    Return\n",
    "    -----------------\n",
    "    Boolean : True if quality if OK.\n",
    "    \"\"\"\n",
    "    # Checking if each element is a string\n",
    "    assert all([isinstance(text, str) for text in textList])\n",
    "    assert all([text != np.nan for text in textList])\n",
    "    return True"
   ]
  },
  {
   "cell_type": "markdown",
   "metadata": {},
   "source": [
    "### Filtering texts from unwanted characters"
   ]
  },
  {
   "cell_type": "code",
   "execution_count": 26,
   "metadata": {
    "execution": {
     "iopub.execute_input": "2021-11-21T13:47:52.217304Z",
     "iopub.status.busy": "2021-11-21T13:47:52.216546Z",
     "iopub.status.idle": "2021-11-21T13:47:52.227383Z",
     "shell.execute_reply": "2021-11-21T13:47:52.226490Z",
     "shell.execute_reply.started": "2021-11-21T13:47:52.217256Z"
    }
   },
   "outputs": [],
   "source": [
    "def unwanted_char_removing(textList):\n",
    "    \"\"\"\n",
    "    Description\n",
    "    -----------------\n",
    "    Remove all unwanted characters in sentences.\n",
    "    \n",
    "    Param\n",
    "    -----------------\n",
    "    textList: List of texts of the dataset.\n",
    "    \n",
    "    Return\n",
    "    -----------------\n",
    "    unw_char: List of texts of the dataset without unwanted characters.\n",
    "    \"\"\"\n",
    "    print(\"Removing unwanted characters ...\")\n",
    "    unw_char = []\n",
    "    for text in textList:\n",
    "        new_text = html.unescape(text)\n",
    "        # Removing links, parenthesis, &, >, invisible space, numbers, ...\n",
    "        new_text = re.sub(r'https?:\\/\\/[A-Za-z0-9_.-~\\-]*', ' ', new_text, flags=re.MULTILINE)\n",
    "        new_text = re.sub(r'[(){}\\[\\]<>]', ' ', new_text, flags=re.MULTILINE)\n",
    "        new_text = re.sub(r'&amp;#.*;', ' ', new_text, flags=re.MULTILINE)\n",
    "        new_text = re.sub(r'&gt;', ' ', new_text, flags=re.MULTILINE)\n",
    "        new_text = re.sub(r'â€™', \"'\", new_text, flags=re.MULTILINE)\n",
    "        new_text = re.sub(r'&#x200B;', ' ', new_text, flags=re.MULTILINE)\n",
    "        new_text = re.sub(r'\\d+', ' ', new_text, flags=re.MULTILINE)\n",
    "        # Removing Twitter username, email address and phone number\n",
    "        new_text = re.sub(r'@\\S+( |\\n)', '', new_text, flags=re.MULTILINE)\n",
    "        new_text = re.sub(r'[a-zA-Z0-9-_.]+@[a-zA-Z0-9-_.]+\\.[a-zA-Z0-9-_.]+', '', new_text, flags=re.MULTILINE)\n",
    "        new_text = re.sub(r\"\\(?\\d{3}\\D{0,3}\\d{3}\\D{0,3}\\d{4}\", '', new_text, flags=re.MULTILINE)\n",
    "        # Removing multiple spaces\n",
    "        new_text = re.sub(r'\\s+', ' ', new_text, flags=re.MULTILINE)\n",
    "        unw_char.append(new_text)\n",
    "    return unw_char"
   ]
  },
  {
   "cell_type": "markdown",
   "metadata": {},
   "source": [
    "### Unifying our texts:"
   ]
  },
  {
   "cell_type": "code",
   "execution_count": 27,
   "metadata": {
    "_cell_guid": "ed4f2f09-397c-45b1-ac65-90eeda82f4f0",
    "_uuid": "0bc77e88-63aa-45c7-bc33-0df9cc474775",
    "execution": {
     "iopub.execute_input": "2021-11-21T15:53:46.891235Z",
     "iopub.status.busy": "2021-11-21T15:53:46.890805Z",
     "iopub.status.idle": "2021-11-21T15:53:46.898057Z",
     "shell.execute_reply": "2021-11-21T15:53:46.897110Z",
     "shell.execute_reply.started": "2021-11-21T15:53:46.891198Z"
    },
    "jupyter": {
     "outputs_hidden": false
    }
   },
   "outputs": [],
   "source": [
    "def punctuation_removing(textList):\n",
    "    \"\"\"\n",
    "    Description\n",
    "    -----------------\n",
    "    Remove all punctuation in sentences.\n",
    "    \n",
    "    Param\n",
    "    -----------------\n",
    "    textList: List of texts of the dataset.\n",
    "    \n",
    "    Return\n",
    "    -----------------\n",
    "    without_punc: List of texts of the dataset without punctuation.\n",
    "    \"\"\"\n",
    "    print(\"Removing punctuation ...\")\n",
    "    without_punc = []\n",
    "    for text in textList:\n",
    "        tmp = \"\".join([i for i in text if i not in string.punctuation])\n",
    "        tmp = tmp.replace(\"‘\",\"\")\n",
    "        without_punc.append(tmp.replace(\"’\",\" \"))\n",
    "    return without_punc"
   ]
  },
  {
   "cell_type": "code",
   "execution_count": 28,
   "metadata": {
    "execution": {
     "iopub.execute_input": "2021-11-21T13:42:05.974672Z",
     "iopub.status.busy": "2021-11-21T13:42:05.974271Z",
     "iopub.status.idle": "2021-11-21T13:42:05.987749Z",
     "shell.execute_reply": "2021-11-21T13:42:05.986950Z",
     "shell.execute_reply.started": "2021-11-21T13:42:05.974631Z"
    }
   },
   "outputs": [],
   "source": [
    "def accent_removing(textList):\n",
    "    \"\"\"\n",
    "    Description\n",
    "    -----------------\n",
    "    Remove all accent in sentences.\n",
    "    \n",
    "    Param\n",
    "    -----------------\n",
    "    textList: List of texts of the dataset.\n",
    "    \n",
    "    Return\n",
    "    -----------------\n",
    "    without_accent: List of texts of the dataset without accent.\n",
    "    \"\"\"\n",
    "    print(\"Removing accents ...\")\n",
    "    without_accent = []\n",
    "    for text in textList:\n",
    "        without_accent.append(unidecode.unidecode(text))\n",
    "    return without_accent"
   ]
  },
  {
   "cell_type": "code",
   "execution_count": 29,
   "metadata": {
    "execution": {
     "iopub.execute_input": "2021-11-21T13:42:05.989184Z",
     "iopub.status.busy": "2021-11-21T13:42:05.988937Z",
     "iopub.status.idle": "2021-11-21T13:42:05.999826Z",
     "shell.execute_reply": "2021-11-21T13:42:05.999016Z",
     "shell.execute_reply.started": "2021-11-21T13:42:05.989143Z"
    }
   },
   "outputs": [],
   "source": [
    "def text_to_lowercase(textList):\n",
    "    \"\"\"\n",
    "    Description\n",
    "    -----------------\n",
    "    Convert text to lowercase.\n",
    "    \n",
    "    Param\n",
    "    -----------------\n",
    "    textList: List of texts of the dataset.\n",
    "    \n",
    "    Return\n",
    "    -----------------\n",
    "    lowercase: List of texts of the dataset in lowercase.\n",
    "    \"\"\"\n",
    "    print(\"Text to lowercase ...\")\n",
    "    lowercase = []\n",
    "    for text in textList:\n",
    "        lowercase.append(text.lower())\n",
    "    return lowercase"
   ]
  },
  {
   "cell_type": "markdown",
   "metadata": {},
   "source": [
    "### Converting texts to list of words"
   ]
  },
  {
   "cell_type": "code",
   "execution_count": 30,
   "metadata": {
    "execution": {
     "iopub.execute_input": "2021-11-21T13:42:06.001271Z",
     "iopub.status.busy": "2021-11-21T13:42:06.000798Z",
     "iopub.status.idle": "2021-11-21T13:42:06.012096Z",
     "shell.execute_reply": "2021-11-21T13:42:06.011184Z",
     "shell.execute_reply.started": "2021-11-21T13:42:06.001238Z"
    }
   },
   "outputs": [],
   "source": [
    "def text_to_list(textList):\n",
    "    \"\"\"\n",
    "    Description\n",
    "    -----------------\n",
    "    Convert text to list of words.\n",
    "    \n",
    "    Param\n",
    "    -----------------\n",
    "    textList: List of texts of the dataset.\n",
    "    \n",
    "    Return\n",
    "    -----------------\n",
    "    word_list: List of texts of the dataset in list of words.\n",
    "    \"\"\"\n",
    "    print(\"Sentences to list ...\")\n",
    "    word_list = []\n",
    "    for text in textList:\n",
    "        word_list.append(text.split())\n",
    "    return word_list"
   ]
  },
  {
   "cell_type": "markdown",
   "metadata": {},
   "source": [
    "### Remove useless words"
   ]
  },
  {
   "cell_type": "code",
   "execution_count": 117,
   "metadata": {
    "execution": {
     "iopub.execute_input": "2021-11-21T13:42:06.013667Z",
     "iopub.status.busy": "2021-11-21T13:42:06.013307Z",
     "iopub.status.idle": "2021-11-21T13:42:06.023886Z",
     "shell.execute_reply": "2021-11-21T13:42:06.023069Z",
     "shell.execute_reply.started": "2021-11-21T13:42:06.013628Z"
    }
   },
   "outputs": [],
   "source": [
    "def useless_words_removing(textList):\n",
    "    \"\"\"\n",
    "    Description\n",
    "    -----------------\n",
    "    Remove stopwords from texts.\n",
    "    \n",
    "    Param\n",
    "    -----------------\n",
    "    textList: List of texts of the dataset.\n",
    "    \n",
    "    Return\n",
    "    -----------------\n",
    "    with_useful_words: List of texts of the dataset without stopwords.\n",
    "    \"\"\"\n",
    "    print(\"Removing useless words ...\")\n",
    "    stopwords_ = stopwords.words('english')\n",
    "    with_useful_words = []\n",
    "    for text in textList:\n",
    "        with_useful_words.append([word for word in text if not word in stopwords_])\n",
    "    return with_useful_words"
   ]
  },
  {
   "cell_type": "markdown",
   "metadata": {},
   "source": [
    "### N-gram creation"
   ]
  },
  {
   "cell_type": "code",
   "execution_count": 118,
   "metadata": {
    "execution": {
     "iopub.execute_input": "2021-11-21T14:01:35.234168Z",
     "iopub.status.busy": "2021-11-21T14:01:35.233662Z",
     "iopub.status.idle": "2021-11-21T14:01:35.240671Z",
     "shell.execute_reply": "2021-11-21T14:01:35.239990Z",
     "shell.execute_reply.started": "2021-11-21T14:01:35.234114Z"
    }
   },
   "outputs": [],
   "source": [
    "def n_gram_creation(textList):\n",
    "    \"\"\"\n",
    "    Description\n",
    "    -----------------\n",
    "    Find 2-gram and 3-gram in a sentence.\n",
    "    \n",
    "    Param\n",
    "    -----------------\n",
    "    textList: List of texts of the dataset.\n",
    "    \n",
    "    Return\n",
    "    -----------------\n",
    "    with_n_gram: List of texts of the dataset with 2-gram and 3-gram.\n",
    "    \"\"\"\n",
    "    print(\"Creating bi-grams and tri-grams ...\")\n",
    "    bigram = Phrases(textList, min_count=40, threshold=10)\n",
    "    trigram = Phrases(bigram[textList], min_count=40, threshold=10)\n",
    "    with_n_gram = []\n",
    "    for text in textList:\n",
    "        with_n_gram.append(trigram[bigram[text]])\n",
    "    return with_n_gram"
   ]
  },
  {
   "cell_type": "markdown",
   "metadata": {},
   "source": [
    "### Lemmatize"
   ]
  },
  {
   "cell_type": "code",
   "execution_count": 124,
   "metadata": {
    "execution": {
     "iopub.execute_input": "2021-11-21T13:42:06.040355Z",
     "iopub.status.busy": "2021-11-21T13:42:06.040025Z",
     "iopub.status.idle": "2021-11-21T13:42:06.050649Z",
     "shell.execute_reply": "2021-11-21T13:42:06.050050Z",
     "shell.execute_reply.started": "2021-11-21T13:42:06.040327Z"
    }
   },
   "outputs": [],
   "source": [
    "def lemmatization(textList):\n",
    "    \"\"\"\n",
    "    Description\n",
    "    -----------------\n",
    "    Lemmatize words.\n",
    "    \n",
    "    Param\n",
    "    -----------------\n",
    "    textList: List of texts of the dataset.\n",
    "    \n",
    "    Return\n",
    "    -----------------\n",
    "    lemmatized: List of texts of the dataset with lemmatized words.\n",
    "    \"\"\"\n",
    "    print(\"Lemmatize words ...\")\n",
    "    lemmatizer = WordNetLemmatizer()\n",
    "    lemmatized = []\n",
    "    for text in textList:\n",
    "        sentence = []\n",
    "        for word in text:\n",
    "            sentence.append(lemmatizer.lemmatize(word))\n",
    "        lemmatized.append(sentence)\n",
    "    return lemmatized"
   ]
  },
  {
   "cell_type": "markdown",
   "metadata": {},
   "source": [
    "### Part-of-speech tagging"
   ]
  },
  {
   "cell_type": "code",
   "execution_count": 125,
   "metadata": {
    "execution": {
     "iopub.execute_input": "2021-11-21T13:42:06.052180Z",
     "iopub.status.busy": "2021-11-21T13:42:06.051797Z",
     "iopub.status.idle": "2021-11-21T13:42:06.061238Z",
     "shell.execute_reply": "2021-11-21T13:42:06.060245Z",
     "shell.execute_reply.started": "2021-11-21T13:42:06.052140Z"
    }
   },
   "outputs": [],
   "source": [
    "def tagging(textList):\n",
    "    \"\"\"\n",
    "    Description\n",
    "    -----------------\n",
    "    Identify the role of words in a sentence.\n",
    "    \n",
    "    Param\n",
    "    -----------------\n",
    "    textList: List of texts of the dataset.\n",
    "    \n",
    "    Return\n",
    "    -----------------\n",
    "    tagged: List of texts of the dataset with words roles.\n",
    "    \"\"\"\n",
    "    print(\"Tagging ...\")\n",
    "    tagged = []\n",
    "    for text in textList:\n",
    "        tagged.append(pos_tag(text))\n",
    "    return tagged"
   ]
  },
  {
   "cell_type": "code",
   "execution_count": 126,
   "metadata": {
    "execution": {
     "iopub.execute_input": "2021-11-21T13:42:06.063901Z",
     "iopub.status.busy": "2021-11-21T13:42:06.063681Z",
     "iopub.status.idle": "2021-11-21T13:42:06.074256Z",
     "shell.execute_reply": "2021-11-21T13:42:06.073656Z",
     "shell.execute_reply.started": "2021-11-21T13:42:06.063870Z"
    }
   },
   "outputs": [],
   "source": [
    "def for_lda(textList):\n",
    "    \"\"\"\n",
    "    Description\n",
    "    -----------------\n",
    "    Create dictionnary and corpus for LDA\n",
    "    \n",
    "    Param\n",
    "    -----------------\n",
    "    textList: List of texts of the dataset.\n",
    "    \n",
    "    Returns\n",
    "    -----------------\n",
    "    tokens: Dictionnary that links words and their ID.\n",
    "    corpus: mapping of (word_id, word_frequency)\n",
    "    \"\"\"\n",
    "    print(\"Preparation for LDA ...\")\n",
    "    ldaed = []\n",
    "    tokens = corpora.Dictionary(textList)\n",
    "    texts = textList\n",
    "    corpus = [tokens.doc2bow(text) for text in texts]\n",
    "    return tokens, corpus"
   ]
  },
  {
   "cell_type": "code",
   "execution_count": 127,
   "metadata": {
    "execution": {
     "iopub.execute_input": "2021-11-21T14:20:46.172585Z",
     "iopub.status.busy": "2021-11-21T14:20:46.172268Z",
     "iopub.status.idle": "2021-11-21T14:20:46.179304Z",
     "shell.execute_reply": "2021-11-21T14:20:46.178389Z",
     "shell.execute_reply.started": "2021-11-21T14:20:46.172552Z"
    }
   },
   "outputs": [],
   "source": [
    "def text_preprocessing(textList):\n",
    "    \"\"\"\n",
    "    Description\n",
    "    -----------------\n",
    "    Make whole text preprocessing\n",
    "    \n",
    "    Param\n",
    "    -----------------\n",
    "    textList: List of texts of the dataset.\n",
    "    \n",
    "    Return\n",
    "    -----------------\n",
    "    preprocessed: List of texts of the dataset with preprocessing\n",
    "    \"\"\"\n",
    "    to_watch = 73 # 7, 21, 73\n",
    "    assert checkQuality(textList)\n",
    "    preprocessed = unwanted_char_removing(textList)\n",
    "    preprocessed = punctuation_removing(preprocessed)\n",
    "    preprocessed = accent_removing(preprocessed)\n",
    "    preprocessed = text_to_lowercase(preprocessed)\n",
    "    preprocessed = text_to_list(preprocessed)\n",
    "    preprocessed = useless_words_removing(preprocessed)\n",
    "    preprocessed = n_gram_creation(preprocessed)\n",
    "    preprocessed = lemmatization(preprocessed)\n",
    "    return preprocessed"
   ]
  },
  {
   "cell_type": "markdown",
   "metadata": {},
   "source": [
    "## Analyse du jeu de données"
   ]
  },
  {
   "cell_type": "code",
   "execution_count": 128,
   "metadata": {
    "execution": {
     "iopub.execute_input": "2021-11-21T15:53:56.780227Z",
     "iopub.status.busy": "2021-11-21T15:53:56.779821Z",
     "iopub.status.idle": "2021-11-21T15:54:39.146680Z",
     "shell.execute_reply": "2021-11-21T15:54:39.146011Z",
     "shell.execute_reply.started": "2021-11-21T15:53:56.780196Z"
    }
   },
   "outputs": [
    {
     "name": "stdout",
     "output_type": "stream",
     "text": [
      "Removing unwanted characters ...\n",
      "Removing punctuation ...\n",
      "Removing accents ...\n",
      "Text to lowercase ...\n",
      "Sentences to list ...\n",
      "Removing useless words ...\n",
      "Creating bi-grams and tri-grams ...\n",
      "Lemmatize words ...\n"
     ]
    }
   ],
   "source": [
    "global_prepro = text_preprocessing(df['headline'].to_list())"
   ]
  },
  {
   "cell_type": "markdown",
   "metadata": {},
   "source": [
    "# Nombre d'occurence des "
   ]
  },
  {
   "cell_type": "code",
   "execution_count": 150,
   "metadata": {},
   "outputs": [
    {
     "data": {
      "text/plain": [
       "Text(0.5, 1.0, ' Data Distribution')"
      ]
     },
     "execution_count": 150,
     "metadata": {},
     "output_type": "execute_result"
    },
    {
     "data": {
      "image/png": "[encoded data removed]",
      "text/plain": [
       "<Figure size 4320x1440 with 1 Axes>"
      ]
     },
     "metadata": {
      "needs_background": "light"
     },
     "output_type": "display_data"
    }
   ],
   "source": [
    "val_count = df.category.value_counts()\n",
    "plt.figure(figsize=(60,20))\n",
    "plt.bar(val_count.index, val_count.values)\n",
    "plt.title(\" Data Distribution\")"
   ]
  },
  {
   "cell_type": "markdown",
   "metadata": {},
   "source": [
    "### Nombre de mots par phrase (en moyenne)"
   ]
  },
  {
   "cell_type": "markdown",
   "metadata": {},
   "source": [
    "#### Avant pre-processing"
   ]
  },
  {
   "cell_type": "code",
   "execution_count": 146,
   "metadata": {
    "execution": {
     "iopub.execute_input": "2021-11-21T16:23:17.695602Z",
     "iopub.status.busy": "2021-11-21T16:23:17.694932Z",
     "iopub.status.idle": "2021-11-21T16:23:18.163277Z",
     "shell.execute_reply": "2021-11-21T16:23:18.162369Z",
     "shell.execute_reply.started": "2021-11-21T16:23:17.695549Z"
    }
   },
   "outputs": [],
   "source": [
    "l = 0\n",
    "myList = text_to_list(df['headline'].to_list())\n",
    "for i in myList:\n",
    "    l += len(i)\n",
    "print(\"%.2f\" % (l/len(myList)))"
   ]
  },
  {
   "cell_type": "markdown",
   "metadata": {},
   "source": [
    "#### Après pre-processing"
   ]
  },
  {
   "cell_type": "code",
   "execution_count": 147,
   "metadata": {
    "execution": {
     "iopub.execute_input": "2021-11-21T16:23:21.014984Z",
     "iopub.status.busy": "2021-11-21T16:23:21.014166Z",
     "iopub.status.idle": "2021-11-21T16:23:21.074950Z",
     "shell.execute_reply": "2021-11-21T16:23:21.073989Z",
     "shell.execute_reply.started": "2021-11-21T16:23:21.014942Z"
    }
   },
   "outputs": [],
   "source": [
    "l = 0\n",
    "for i in global_prepro:\n",
    "    l += len(i)\n",
    "print(\"%.2f\" % (l/len(global_prepro)))"
   ]
  },
  {
   "cell_type": "markdown",
   "metadata": {},
   "source": [
    "Ici, nous remarquons qu'il y a moins de mots par phrases, mais les mots dans ces phrases nous seront plus utiles."
   ]
  },
  {
   "cell_type": "markdown",
   "metadata": {},
   "source": [
    "### Types de mots utilisés"
   ]
  },
  {
   "cell_type": "markdown",
   "metadata": {},
   "source": [
    "#### Avant pre-processing"
   ]
  },
  {
   "cell_type": "code",
   "execution_count": 150,
   "metadata": {
    "execution": {
     "iopub.execute_input": "2021-11-21T16:31:05.335955Z",
     "iopub.status.busy": "2021-11-21T16:31:05.335638Z",
     "iopub.status.idle": "2021-11-21T16:34:03.907900Z",
     "shell.execute_reply": "2021-11-21T16:34:03.906993Z",
     "shell.execute_reply.started": "2021-11-21T16:31:05.335925Z"
    }
   },
   "outputs": [],
   "source": [
    "tagged_before = tagging(myList)\n",
    "tagged_before_flatten = [item for sublist in tagged_before for item in sublist]\n",
    "counts_before = Counter(tag for word, tag in tagged_before_flatten)\n",
    "counts_before.most_common()"
   ]
  },
  {
   "cell_type": "markdown",
   "metadata": {},
   "source": [
    "Nous remarquons qu'ici il y a énormément de préposition (IN), de déterminants (DT) ou de conjonctions de coordination (CC). Ce sont des éléments qui ne sont pas utiles pour le Topic Modelling, il faut donc les supprimer."
   ]
  },
  {
   "cell_type": "markdown",
   "metadata": {},
   "source": [
    "#### Après pre-processing"
   ]
  },
  {
   "cell_type": "code",
   "execution_count": 151,
   "metadata": {
    "execution": {
     "iopub.execute_input": "2021-11-21T16:34:03.910728Z",
     "iopub.status.busy": "2021-11-21T16:34:03.909875Z",
     "iopub.status.idle": "2021-11-21T16:36:09.494718Z",
     "shell.execute_reply": "2021-11-21T16:36:09.494033Z",
     "shell.execute_reply.started": "2021-11-21T16:34:03.910680Z"
    }
   },
   "outputs": [],
   "source": [
    "tagged_after = tagging(global_prepro)\n",
    "tagged_after_flatten = [item for sublist in tagged_after for item in sublist]\n",
    "counts_after = Counter(tag for word, tag in tagged_after_flatten)\n",
    "counts_after.most_common()"
   ]
  },
  {
   "cell_type": "markdown",
   "metadata": {},
   "source": [
    "Nous voyons qu'il y a beaucoup moins de préposition et de déterminants. Grâce aux stopwords, une majorité a pu être éliminée. Nous remarquons qu'il en reste encore, surement dû à l'absence de certains de ces mots dans la liste de stopwords. Nous remarquons que désormais les types de mots les plus présents sont : les verbes, les noms et les adjectifs."
   ]
  },
  {
   "cell_type": "markdown",
   "metadata": {},
   "source": [
    "#### Occurence de chaque mot"
   ]
  },
  {
   "cell_type": "code",
   "execution_count": 158,
   "metadata": {
    "execution": {
     "iopub.execute_input": "2021-11-21T17:04:02.386706Z",
     "iopub.status.busy": "2021-11-21T17:04:02.386167Z",
     "iopub.status.idle": "2021-11-21T17:04:02.391815Z",
     "shell.execute_reply": "2021-11-21T17:04:02.391068Z",
     "shell.execute_reply.started": "2021-11-21T17:04:02.386668Z"
    }
   },
   "outputs": [],
   "source": [
    "def compute_word_occurences(texts):\n",
    "    \"\"\"You have to define this function yourself. \"\"\"\n",
    "    \n",
    "    words = itertools.chain.from_iterable(texts)\n",
    "    \n",
    "    word_count = pd.Series(words).value_counts()\n",
    "    word_count = pd.DataFrame({\"Word\": word_count.index, \"Count\": word_count.values})\n",
    "\n",
    "    return word_count"
   ]
  },
  {
   "cell_type": "markdown",
   "metadata": {},
   "source": [
    "#### Avant pre-processing"
   ]
  },
  {
   "cell_type": "code",
   "execution_count": 161,
   "metadata": {
    "execution": {
     "iopub.execute_input": "2021-11-21T17:05:24.341883Z",
     "iopub.status.busy": "2021-11-21T17:05:24.341555Z",
     "iopub.status.idle": "2021-11-21T17:05:25.388450Z",
     "shell.execute_reply": "2021-11-21T17:05:25.387854Z",
     "shell.execute_reply.started": "2021-11-21T17:05:24.341851Z"
    }
   },
   "outputs": [],
   "source": [
    "compute_word_occurences(myList).head(20)"
   ]
  },
  {
   "cell_type": "markdown",
   "metadata": {},
   "source": [
    "Nous voyons qu'il y a beacoup de mots inutiles dans le top 20 des mots les plus récurrents tels que 'the', 'to', 'a', 'in' ou encore 'of'. Il faut donc les supprimer pour avoir un meilleur Topic Modelling."
   ]
  },
  {
   "cell_type": "markdown",
   "metadata": {},
   "source": [
    "#### Après pre-processing"
   ]
  },
  {
   "cell_type": "code",
   "execution_count": 160,
   "metadata": {
    "execution": {
     "iopub.execute_input": "2021-11-21T17:04:20.169998Z",
     "iopub.status.busy": "2021-11-21T17:04:20.169518Z",
     "iopub.status.idle": "2021-11-21T17:04:20.854088Z",
     "shell.execute_reply": "2021-11-21T17:04:20.853210Z",
     "shell.execute_reply.started": "2021-11-21T17:04:20.169964Z"
    }
   },
   "outputs": [],
   "source": [
    "compute_word_occurences(global_prepro).head(20)"
   ]
  },
  {
   "cell_type": "markdown",
   "metadata": {},
   "source": [
    "Nous voyons que les mots dans le top 20 des mots les plus utilisés sont tous utiles pour le Topic Modelling. L'entièreté des mots inutiles vus précédemment ont été supprimés."
   ]
  },
  {
   "cell_type": "markdown",
   "metadata": {},
   "source": [
    "## Topic Modelling"
   ]
  },
  {
   "cell_type": "markdown",
   "metadata": {},
   "source": [
    "Nous avons choisi les algorithmes suivant pour modéliser les sujets :\n",
    "* LDA\n",
    "\n",
    "Le LDA est utilisé pour classer le texte d'un document dans un sujet particulier. Le LDA construit un modèle de sujet par document et un modèle de mots par sujet. Il est crucial de choisir le bon corpus de données car il suppose que les documents sont produits à partir d'un mélange de sujets. Ces sujets génèrent ensuite des mots sur la base de leur distribution de probabilité. Le LDA ne donne pas le nom des topics, c’est à nous humain de l’interpréter.\n",
    "\n",
    "Pour :\n",
    "\n",
    "    - Modèle probabiliste avec des sujets interprétables\n",
    "    - Il n'est pas nécessaire de savoir à l'avance à quoi ressembleront les sujets\n",
    "    \n",
    "    \n",
    "* HDP\n",
    "\n",
    "Le HDP est une approche bayésienne non paramétrique du regroupement de données groupées. Il est une variante non-paramétrique de LDA. Elle est dite \"non-paramétrique\" car le nombre de sujets est déduit des données, et ce paramètre n'est pas fourni. Cela signifie que ce paramètre est appris et peut augmenter\n",
    "\n",
    "Pour :\n",
    "\n",
    "    - Le nombre maximum de sujets peut être illimité et appris à partir des données plutôt que spécifié à l'avance.\n",
    "    \n",
    "\n",
    "* NMF\n",
    "\n",
    "Le NMF est une méthode statistique permettant de réduire la dimension des corpus d'entrée. Elle utilise la méthode d'analyse factorielle pour donner comparativement moins de poids aux mots moins cohérents.\n",
    "\n",
    "Pour :  \n",
    "\n",
    "    - Le NMF est un modèle linéaire-algébrique qui factorise des vecteurs de haute dimension en une représentation de basse dimension\n",
    "    - Plus rapide que le LDA\n",
    "    - Fonctionne mieux avec les textes courts."
   ]
  },
  {
   "cell_type": "markdown",
   "metadata": {},
   "source": [
    "# Métriques permettant de mesurer la qualité de nos modèles"
   ]
  },
  {
   "cell_type": "markdown",
   "metadata": {},
   "source": [
    "Afin de mesurer la qualité de nos modèles, nous avons choisi d'utliser la cohérence comme métrique. La cohérence permet dans notre étude de calculer le lien de pertinence entre les mots dans chancun des topics du clustering."
   ]
  },
  {
   "cell_type": "markdown",
   "metadata": {},
   "source": [
    "### Calculons et comparons la cohérence pour nos différents modèles"
   ]
  },
  {
   "cell_type": "markdown",
   "metadata": {},
   "source": [
    "### LDA"
   ]
  },
  {
   "cell_type": "code",
   "execution_count": 129,
   "metadata": {
    "execution": {
     "iopub.execute_input": "2021-11-21T12:57:05.651784Z",
     "iopub.status.busy": "2021-11-21T12:57:05.651360Z",
     "iopub.status.idle": "2021-11-21T12:57:11.798633Z",
     "shell.execute_reply": "2021-11-21T12:57:11.797974Z",
     "shell.execute_reply.started": "2021-11-21T12:57:05.651751Z"
    }
   },
   "outputs": [
    {
     "name": "stdout",
     "output_type": "stream",
     "text": [
      "Preparation for LDA ...\n"
     ]
    }
   ],
   "source": [
    "t, c = for_lda(global_prepro)"
   ]
  },
  {
   "cell_type": "markdown",
   "metadata": {},
   "source": [
    "Pour déterminer le nombre optimal de topics à utiliser dans le LDA, nous effectuons une recherche exhaustive afin de trouver le nombre de topics qui maximise la cohérence"
   ]
  },
  {
   "cell_type": "code",
   "execution_count": 144,
   "metadata": {},
   "outputs": [
    {
     "name": "stdout",
     "output_type": "stream",
     "text": [
      "2\n"
     ]
    },
    {
     "name": "stderr",
     "output_type": "stream",
     "text": [
      "//anaconda3/lib/python3.7/site-packages/scipy/sparse/lil.py:504: FutureWarning: future versions will not create a writeable array from broadcast_array. Set the writable flag explicitly to avoid this warning.\n",
      "  if not i.flags.writeable or i.dtype not in (np.int32, np.int64):\n",
      "//anaconda3/lib/python3.7/site-packages/scipy/sparse/lil.py:506: FutureWarning: future versions will not create a writeable array from broadcast_array. Set the writable flag explicitly to avoid this warning.\n",
      "  if not j.flags.writeable or j.dtype not in (np.int32, np.int64):\n"
     ]
    },
    {
     "name": "stdout",
     "output_type": "stream",
     "text": [
      "3\n",
      "4\n",
      "5\n",
      "6\n"
     ]
    },
    {
     "ename": "KeyboardInterrupt",
     "evalue": "",
     "output_type": "error",
     "traceback": [
      "\u001b[0;31m---------------------------------------------------------------------------\u001b[0m",
      "\u001b[0;31mKeyboardInterrupt\u001b[0m                         Traceback (most recent call last)",
      "\u001b[0;32m<ipython-input-144-1d4ad786278e>\u001b[0m in \u001b[0;36m<module>\u001b[0;34m\u001b[0m\n\u001b[1;32m      2\u001b[0m \u001b[0;32mfor\u001b[0m \u001b[0mnb_topics\u001b[0m \u001b[0;32min\u001b[0m \u001b[0mrange\u001b[0m\u001b[0;34m(\u001b[0m\u001b[0;36m2\u001b[0m\u001b[0;34m,\u001b[0m\u001b[0;36m42\u001b[0m\u001b[0;34m)\u001b[0m\u001b[0;34m:\u001b[0m\u001b[0;34m\u001b[0m\u001b[0;34m\u001b[0m\u001b[0m\n\u001b[1;32m      3\u001b[0m     \u001b[0mprint\u001b[0m\u001b[0;34m(\u001b[0m\u001b[0mnb_topics\u001b[0m\u001b[0;34m)\u001b[0m\u001b[0;34m\u001b[0m\u001b[0;34m\u001b[0m\u001b[0m\n\u001b[0;32m----> 4\u001b[0;31m     \u001b[0mlda_model\u001b[0m \u001b[0;34m=\u001b[0m \u001b[0mLdaModel\u001b[0m\u001b[0;34m(\u001b[0m\u001b[0mcorpus\u001b[0m\u001b[0;34m=\u001b[0m\u001b[0mc\u001b[0m\u001b[0;34m,\u001b[0m \u001b[0mid2word\u001b[0m\u001b[0;34m=\u001b[0m\u001b[0mt\u001b[0m\u001b[0;34m,\u001b[0m \u001b[0mnum_topics\u001b[0m\u001b[0;34m=\u001b[0m\u001b[0mnb_topics\u001b[0m\u001b[0;34m,\u001b[0m \u001b[0mpasses\u001b[0m\u001b[0;34m=\u001b[0m\u001b[0;36m10\u001b[0m\u001b[0;34m)\u001b[0m\u001b[0;34m\u001b[0m\u001b[0;34m\u001b[0m\u001b[0m\n\u001b[0m\u001b[1;32m      5\u001b[0m     \u001b[0mcoherencemodel\u001b[0m \u001b[0;34m=\u001b[0m \u001b[0mCoherenceModel\u001b[0m\u001b[0;34m(\u001b[0m\u001b[0mmodel\u001b[0m\u001b[0;34m=\u001b[0m\u001b[0mlda_model\u001b[0m\u001b[0;34m,\u001b[0m \u001b[0mtexts\u001b[0m\u001b[0;34m=\u001b[0m\u001b[0mglobal_prepro\u001b[0m\u001b[0;34m,\u001b[0m \u001b[0mdictionary\u001b[0m\u001b[0;34m=\u001b[0m\u001b[0mt\u001b[0m\u001b[0;34m,\u001b[0m \u001b[0mcoherence\u001b[0m\u001b[0;34m=\u001b[0m\u001b[0;34m'c_v'\u001b[0m\u001b[0;34m)\u001b[0m\u001b[0;34m\u001b[0m\u001b[0;34m\u001b[0m\u001b[0m\n\u001b[1;32m      6\u001b[0m     \u001b[0mcoherence\u001b[0m \u001b[0;34m=\u001b[0m \u001b[0mcoherence\u001b[0m\u001b[0;34m.\u001b[0m\u001b[0mappend\u001b[0m\u001b[0;34m(\u001b[0m\u001b[0;34m{\u001b[0m\u001b[0;34m'nb_topics'\u001b[0m\u001b[0;34m:\u001b[0m\u001b[0mnb_topics\u001b[0m\u001b[0;34m,\u001b[0m\u001b[0;34m'coherence'\u001b[0m\u001b[0;34m:\u001b[0m\u001b[0mcoherencemodel\u001b[0m\u001b[0;34m.\u001b[0m\u001b[0mget_coherence\u001b[0m\u001b[0;34m(\u001b[0m\u001b[0;34m)\u001b[0m\u001b[0;34m}\u001b[0m\u001b[0;34m,\u001b[0m \u001b[0mignore_index\u001b[0m\u001b[0;34m=\u001b[0m\u001b[0;32mTrue\u001b[0m\u001b[0;34m)\u001b[0m\u001b[0;34m\u001b[0m\u001b[0;34m\u001b[0m\u001b[0m\n",
      "\u001b[0;32m//anaconda3/lib/python3.7/site-packages/gensim/models/ldamodel.py\u001b[0m in \u001b[0;36m__init__\u001b[0;34m(self, corpus, num_topics, id2word, distributed, chunksize, passes, update_every, alpha, eta, decay, offset, eval_every, iterations, gamma_threshold, minimum_probability, random_state, ns_conf, minimum_phi_value, per_word_topics, callbacks, dtype)\u001b[0m\n\u001b[1;32m    518\u001b[0m             \u001b[0muse_numpy\u001b[0m \u001b[0;34m=\u001b[0m \u001b[0mself\u001b[0m\u001b[0;34m.\u001b[0m\u001b[0mdispatcher\u001b[0m \u001b[0;32mis\u001b[0m \u001b[0;32mnot\u001b[0m \u001b[0;32mNone\u001b[0m\u001b[0;34m\u001b[0m\u001b[0;34m\u001b[0m\u001b[0m\n\u001b[1;32m    519\u001b[0m             \u001b[0mstart\u001b[0m \u001b[0;34m=\u001b[0m \u001b[0mtime\u001b[0m\u001b[0;34m.\u001b[0m\u001b[0mtime\u001b[0m\u001b[0;34m(\u001b[0m\u001b[0;34m)\u001b[0m\u001b[0;34m\u001b[0m\u001b[0;34m\u001b[0m\u001b[0m\n\u001b[0;32m--> 520\u001b[0;31m             \u001b[0mself\u001b[0m\u001b[0;34m.\u001b[0m\u001b[0mupdate\u001b[0m\u001b[0;34m(\u001b[0m\u001b[0mcorpus\u001b[0m\u001b[0;34m,\u001b[0m \u001b[0mchunks_as_numpy\u001b[0m\u001b[0;34m=\u001b[0m\u001b[0muse_numpy\u001b[0m\u001b[0;34m)\u001b[0m\u001b[0;34m\u001b[0m\u001b[0;34m\u001b[0m\u001b[0m\n\u001b[0m\u001b[1;32m    521\u001b[0m             self.add_lifecycle_event(\n\u001b[1;32m    522\u001b[0m                 \u001b[0;34m\"created\"\u001b[0m\u001b[0;34m,\u001b[0m\u001b[0;34m\u001b[0m\u001b[0;34m\u001b[0m\u001b[0m\n",
      "\u001b[0;32m//anaconda3/lib/python3.7/site-packages/gensim/models/ldamodel.py\u001b[0m in \u001b[0;36mupdate\u001b[0;34m(self, corpus, chunksize, decay, offset, passes, update_every, eval_every, iterations, gamma_threshold, chunks_as_numpy)\u001b[0m\n\u001b[1;32m   1003\u001b[0m                         \u001b[0mpass_\u001b[0m\u001b[0;34m,\u001b[0m \u001b[0mchunk_no\u001b[0m \u001b[0;34m*\u001b[0m \u001b[0mchunksize\u001b[0m \u001b[0;34m+\u001b[0m \u001b[0mlen\u001b[0m\u001b[0;34m(\u001b[0m\u001b[0mchunk\u001b[0m\u001b[0;34m)\u001b[0m\u001b[0;34m,\u001b[0m \u001b[0mlencorpus\u001b[0m\u001b[0;34m\u001b[0m\u001b[0;34m\u001b[0m\u001b[0m\n\u001b[1;32m   1004\u001b[0m                     )\n\u001b[0;32m-> 1005\u001b[0;31m                     \u001b[0mgammat\u001b[0m \u001b[0;34m=\u001b[0m \u001b[0mself\u001b[0m\u001b[0;34m.\u001b[0m\u001b[0mdo_estep\u001b[0m\u001b[0;34m(\u001b[0m\u001b[0mchunk\u001b[0m\u001b[0;34m,\u001b[0m \u001b[0mother\u001b[0m\u001b[0;34m)\u001b[0m\u001b[0;34m\u001b[0m\u001b[0;34m\u001b[0m\u001b[0m\n\u001b[0m\u001b[1;32m   1006\u001b[0m \u001b[0;34m\u001b[0m\u001b[0m\n\u001b[1;32m   1007\u001b[0m                     \u001b[0;32mif\u001b[0m \u001b[0mself\u001b[0m\u001b[0;34m.\u001b[0m\u001b[0moptimize_alpha\u001b[0m\u001b[0;34m:\u001b[0m\u001b[0;34m\u001b[0m\u001b[0;34m\u001b[0m\u001b[0m\n",
      "\u001b[0;32m//anaconda3/lib/python3.7/site-packages/gensim/models/ldamodel.py\u001b[0m in \u001b[0;36mdo_estep\u001b[0;34m(self, chunk, state)\u001b[0m\n\u001b[1;32m    765\u001b[0m         \u001b[0;32mif\u001b[0m \u001b[0mstate\u001b[0m \u001b[0;32mis\u001b[0m \u001b[0;32mNone\u001b[0m\u001b[0;34m:\u001b[0m\u001b[0;34m\u001b[0m\u001b[0;34m\u001b[0m\u001b[0m\n\u001b[1;32m    766\u001b[0m             \u001b[0mstate\u001b[0m \u001b[0;34m=\u001b[0m \u001b[0mself\u001b[0m\u001b[0;34m.\u001b[0m\u001b[0mstate\u001b[0m\u001b[0;34m\u001b[0m\u001b[0;34m\u001b[0m\u001b[0m\n\u001b[0;32m--> 767\u001b[0;31m         \u001b[0mgamma\u001b[0m\u001b[0;34m,\u001b[0m \u001b[0msstats\u001b[0m \u001b[0;34m=\u001b[0m \u001b[0mself\u001b[0m\u001b[0;34m.\u001b[0m\u001b[0minference\u001b[0m\u001b[0;34m(\u001b[0m\u001b[0mchunk\u001b[0m\u001b[0;34m,\u001b[0m \u001b[0mcollect_sstats\u001b[0m\u001b[0;34m=\u001b[0m\u001b[0;32mTrue\u001b[0m\u001b[0;34m)\u001b[0m\u001b[0;34m\u001b[0m\u001b[0;34m\u001b[0m\u001b[0m\n\u001b[0m\u001b[1;32m    768\u001b[0m         \u001b[0mstate\u001b[0m\u001b[0;34m.\u001b[0m\u001b[0msstats\u001b[0m \u001b[0;34m+=\u001b[0m \u001b[0msstats\u001b[0m\u001b[0;34m\u001b[0m\u001b[0;34m\u001b[0m\u001b[0m\n\u001b[1;32m    769\u001b[0m         \u001b[0mstate\u001b[0m\u001b[0;34m.\u001b[0m\u001b[0mnumdocs\u001b[0m \u001b[0;34m+=\u001b[0m \u001b[0mgamma\u001b[0m\u001b[0;34m.\u001b[0m\u001b[0mshape\u001b[0m\u001b[0;34m[\u001b[0m\u001b[0;36m0\u001b[0m\u001b[0;34m]\u001b[0m  \u001b[0;31m# avoids calling len(chunk) on a generator\u001b[0m\u001b[0;34m\u001b[0m\u001b[0;34m\u001b[0m\u001b[0m\n",
      "\u001b[0;32m//anaconda3/lib/python3.7/site-packages/gensim/models/ldamodel.py\u001b[0m in \u001b[0;36minference\u001b[0;34m(self, chunk, collect_sstats)\u001b[0m\n\u001b[1;32m    730\u001b[0m                 \u001b[0;31m# Contribution of document d to the expected sufficient\u001b[0m\u001b[0;34m\u001b[0m\u001b[0;34m\u001b[0m\u001b[0;34m\u001b[0m\u001b[0m\n\u001b[1;32m    731\u001b[0m                 \u001b[0;31m# statistics for the M step.\u001b[0m\u001b[0;34m\u001b[0m\u001b[0;34m\u001b[0m\u001b[0;34m\u001b[0m\u001b[0m\n\u001b[0;32m--> 732\u001b[0;31m                 \u001b[0msstats\u001b[0m\u001b[0;34m[\u001b[0m\u001b[0;34m:\u001b[0m\u001b[0;34m,\u001b[0m \u001b[0mids\u001b[0m\u001b[0;34m]\u001b[0m \u001b[0;34m+=\u001b[0m \u001b[0mnp\u001b[0m\u001b[0;34m.\u001b[0m\u001b[0mouter\u001b[0m\u001b[0;34m(\u001b[0m\u001b[0mexpElogthetad\u001b[0m\u001b[0;34m.\u001b[0m\u001b[0mT\u001b[0m\u001b[0;34m,\u001b[0m \u001b[0mcts\u001b[0m \u001b[0;34m/\u001b[0m \u001b[0mphinorm\u001b[0m\u001b[0;34m)\u001b[0m\u001b[0;34m\u001b[0m\u001b[0;34m\u001b[0m\u001b[0m\n\u001b[0m\u001b[1;32m    733\u001b[0m \u001b[0;34m\u001b[0m\u001b[0m\n\u001b[1;32m    734\u001b[0m         \u001b[0;32mif\u001b[0m \u001b[0mlen\u001b[0m\u001b[0;34m(\u001b[0m\u001b[0mchunk\u001b[0m\u001b[0;34m)\u001b[0m \u001b[0;34m>\u001b[0m \u001b[0;36m1\u001b[0m\u001b[0;34m:\u001b[0m\u001b[0;34m\u001b[0m\u001b[0;34m\u001b[0m\u001b[0m\n",
      "\u001b[0;32m<__array_function__ internals>\u001b[0m in \u001b[0;36mouter\u001b[0;34m(*args, **kwargs)\u001b[0m\n",
      "\u001b[0;32m//anaconda3/lib/python3.7/site-packages/numpy/core/numeric.py\u001b[0m in \u001b[0;36mouter\u001b[0;34m(a, b, out)\u001b[0m\n\u001b[1;32m    940\u001b[0m     \u001b[0ma\u001b[0m \u001b[0;34m=\u001b[0m \u001b[0masarray\u001b[0m\u001b[0;34m(\u001b[0m\u001b[0ma\u001b[0m\u001b[0;34m)\u001b[0m\u001b[0;34m\u001b[0m\u001b[0;34m\u001b[0m\u001b[0m\n\u001b[1;32m    941\u001b[0m     \u001b[0mb\u001b[0m \u001b[0;34m=\u001b[0m \u001b[0masarray\u001b[0m\u001b[0;34m(\u001b[0m\u001b[0mb\u001b[0m\u001b[0;34m)\u001b[0m\u001b[0;34m\u001b[0m\u001b[0;34m\u001b[0m\u001b[0m\n\u001b[0;32m--> 942\u001b[0;31m     \u001b[0;32mreturn\u001b[0m \u001b[0mmultiply\u001b[0m\u001b[0;34m(\u001b[0m\u001b[0ma\u001b[0m\u001b[0;34m.\u001b[0m\u001b[0mravel\u001b[0m\u001b[0;34m(\u001b[0m\u001b[0;34m)\u001b[0m\u001b[0;34m[\u001b[0m\u001b[0;34m:\u001b[0m\u001b[0;34m,\u001b[0m \u001b[0mnewaxis\u001b[0m\u001b[0;34m]\u001b[0m\u001b[0;34m,\u001b[0m \u001b[0mb\u001b[0m\u001b[0;34m.\u001b[0m\u001b[0mravel\u001b[0m\u001b[0;34m(\u001b[0m\u001b[0;34m)\u001b[0m\u001b[0;34m[\u001b[0m\u001b[0mnewaxis\u001b[0m\u001b[0;34m,\u001b[0m \u001b[0;34m:\u001b[0m\u001b[0;34m]\u001b[0m\u001b[0;34m,\u001b[0m \u001b[0mout\u001b[0m\u001b[0;34m)\u001b[0m\u001b[0;34m\u001b[0m\u001b[0;34m\u001b[0m\u001b[0m\n\u001b[0m\u001b[1;32m    943\u001b[0m \u001b[0;34m\u001b[0m\u001b[0m\n\u001b[1;32m    944\u001b[0m \u001b[0;34m\u001b[0m\u001b[0m\n",
      "\u001b[0;31mKeyboardInterrupt\u001b[0m: "
     ]
    }
   ],
   "source": [
    "coherence = pd.DataFrame(columns=['nb_topics','coherence'])\n",
    "for nb_topics in range(2,42):\n",
    "    print(nb_topics)\n",
    "    lda_model = LdaModel(corpus=c, id2word=t, num_topics=nb_topics, passes=10)\n",
    "    coherencemodel = CoherenceModel(model=lda_model, texts=global_prepro, dictionary=t, coherence='c_v')\n",
    "    coherence = coherence.append({'nb_topics':nb_topics,'coherence':coherencemodel.get_coherence()}, ignore_index=True)"
   ]
  },
  {
   "cell_type": "code",
   "execution_count": null,
   "metadata": {},
   "outputs": [],
   "source": [
    "coherence[coherence['coherence']==max(coherence['coherence'])]"
   ]
  },
  {
   "cell_type": "markdown",
   "metadata": {},
   "source": [
    "La meilleure cohérence étant pour le nombre de topics = ..., nous allons l'utiliser pour la suite de notre analyse"
   ]
  },
  {
   "cell_type": "code",
   "execution_count": 141,
   "metadata": {
    "execution": {
     "iopub.execute_input": "2021-11-21T12:57:11.800005Z",
     "iopub.status.busy": "2021-11-21T12:57:11.799780Z",
     "iopub.status.idle": "2021-11-21T13:05:03.992706Z",
     "shell.execute_reply": "2021-11-21T13:05:03.992039Z",
     "shell.execute_reply.started": "2021-11-21T12:57:11.799975Z"
    }
   },
   "outputs": [],
   "source": [
    "lda_model = LdaModel(corpus=c, id2word=t, num_topics=66, passes=10)"
   ]
  },
  {
   "cell_type": "code",
   "execution_count": 142,
   "metadata": {},
   "outputs": [
    {
     "name": "stderr",
     "output_type": "stream",
     "text": [
      "//anaconda3/lib/python3.7/site-packages/scipy/sparse/lil.py:504: FutureWarning: future versions will not create a writeable array from broadcast_array. Set the writable flag explicitly to avoid this warning.\n",
      "  if not i.flags.writeable or i.dtype not in (np.int32, np.int64):\n",
      "//anaconda3/lib/python3.7/site-packages/scipy/sparse/lil.py:506: FutureWarning: future versions will not create a writeable array from broadcast_array. Set the writable flag explicitly to avoid this warning.\n",
      "  if not j.flags.writeable or j.dtype not in (np.int32, np.int64):\n"
     ]
    },
    {
     "name": "stdout",
     "output_type": "stream",
     "text": [
      "Coherence Score:  0.505\n"
     ]
    }
   ],
   "source": [
    "coherence_using_lda = CoherenceModel(model=lda_model, texts=global_prepro, dictionary=t, coherence='c_v')\n",
    "coherence = coherence_using_lda.get_coherence()\n",
    "print('Coherence Score: ', round(coherence, 3))"
   ]
  },
  {
   "cell_type": "markdown",
   "metadata": {},
   "source": [
    "Nous pouvons visualiser les performances de notre modèle à l'aide de la librairie pyLDAvis"
   ]
  },
  {
   "cell_type": "code",
   "execution_count": 143,
   "metadata": {
    "execution": {
     "iopub.execute_input": "2021-11-21T13:05:03.994440Z",
     "iopub.status.busy": "2021-11-21T13:05:03.994047Z",
     "iopub.status.idle": "2021-11-21T13:05:40.081788Z",
     "shell.execute_reply": "2021-11-21T13:05:40.080958Z",
     "shell.execute_reply.started": "2021-11-21T13:05:03.994409Z"
    }
   },
   "outputs": [
    {
     "name": "stderr",
     "output_type": "stream",
     "text": [
      "//anaconda3/lib/python3.7/site-packages/pyLDAvis/_prepare.py:247: FutureWarning: In a future version of pandas all arguments of DataFrame.drop except for the argument 'labels' will be keyword-only\n",
      "  by='saliency', ascending=False).head(R).drop('saliency', 1)\n"
     ]
    },
    {
     "data": {
      "text/html": [
       "\n",
       "<link rel=\"stylesheet\" type=\"text/css\" href=\"https://cdn.jsdelivr.net/gh/bmabey/pyLDAvis@3.3.1/pyLDAvis/js/ldavis.v1.0.0.css\">\n",
       "\n",
       "\n",
       "<div id=\"ldavis_el101601173458437443742538500\"></div>\n",
       "<script type=\"text/javascript\">\n",
       "\n",
       "var ldavis_el101601173458437443742538500_data = {\"mdsDat\": {\"x\": [-0.28903853691823883, 0.08379953864569534, -0.06718575322086957, 0.27242475149341355], \"y\": [0.19900042266397253, -0.04238406185816701, -0.3054579513144029, 0.14884159050859722], \"topics\": [1, 2, 3, 4], \"cluster\": [1, 1, 1, 1], \"Freq\": [28.236489321449625, 25.316294704380333, 21.81431814403251, 24.632897830137534]}, \"tinfo\": {\"Term\": [\"photo\", \"video\", \"divorce\", \"tip\", \"recipe\", \"food\", \"best\", \"style\", \"woman\", \"dress\", \"summer\", \"thing\", \"kid\", \"good\", \"life\", \"wedding\", \"health\", \"fashion\", \"mom\", \"hotel\", \"parent\", \"star\", \"sleep\", \"beauty\", \"marriage\", \"love\", \"u\", \"baby\", \"week\", \"fall\", \"divorce\", \"tip\", \"summer\", \"good\", \"hotel\", \"sleep\", \"beauty\", \"guide\", \"report\", \"part\", \"bad\", \"perfect\", \"favorite\", \"fear\", \"green\", \"challenge\", \"im\", \"diet\", \"shoe\", \"finding\", \"vacation\", \"cause\", \"hit\", \"singer\", \"fearless\", \"visit\", \"paris\", \"mistake\", \"conversation\", \"dinner\", \"call\", \"week\", \"u\", \"tax\", \"top\", \"say\", \"day\", \"new\", \"child\", \"food\", \"woman\", \"style\", \"parent\", \"star\", \"celebrity\", \"healthy\", \"hair\", \"great\", \"game\", \"black\", \"men\", \"le\", \"making\", \"trend\", \"relationship\", \"five\", \"much\", \"diy\", \"advice\", \"design\", \"red\", \"youre\", \"poll\", \"room\", \"rule\", \"cost\", \"think\", \"bride\", \"power\", \"new_york_fashion_week\", \"turn\", \"look_day\", \"kid\", \"video\", \"talk\", \"wedding\", \"child\", \"make\", \"way\", \"love\", \"week\", \"new\", \"get\", \"day\", \"reason\", \"work\", \"recipe\", \"dress\", \"thing\", \"health\", \"fall\", \"cancer\", \"v\", \"wear\", \"spring\", \"change\", \"holiday\", \"living\", \"eat\", \"bank\", \"moment\", \"hot\", \"drug\", \"question\", \"stress\", \"friend\", \"brain\", \"linked\", \"eating\", \"lesson\", \"season\", \"every\", \"save\", \"care\", \"outfit\", \"easy\", \"craft_day\", \"life\", \"study\", \"need\", \"way\", \"travel\", \"could\", \"may\", \"u\", \"make\", \"help\", \"best\", \"new\", \"kid\", \"photo\", \"mom\", \"fashion\", \"marriage\", \"baby\", \"girl\", \"dont\", \"dad\", \"photos_poll\", \"super_bowl\", \"two\", \"cover\", \"daughter\", \"dog\", \"parenting\", \"designer\", \"yoga\", \"magazine\", \"gift\", \"ad\", \"share\", \"son\", \"workout\", \"little\", \"study_finds\", \"exercise\", \"old\", \"mothers_day\", \"boy\", \"stay\", \"style_evolution\", \"stylelist_network\", \"mother\", \"best\", \"video\", \"look\", \"love\", \"wedding\", \"home\", \"show\", \"new\", \"day\", \"year\", \"get\", \"make\", \"world\", \"first\"], \"Freq\": [27379.0, 12306.0, 5506.0, 3979.0, 2846.0, 2891.0, 4603.0, 2779.0, 2716.0, 2234.0, 2681.0, 2085.0, 3741.0, 2454.0, 3244.0, 4258.0, 1925.0, 2086.0, 2081.0, 2305.0, 2093.0, 2064.0, 2153.0, 2124.0, 1908.0, 3656.0, 3695.0, 1771.0, 3824.0, 1602.0, 5505.975350519327, 3979.196505462886, 2680.7917760321493, 2453.7100508828653, 2305.0097389296843, 2152.780175373005, 2123.763302043798, 1855.5794377041052, 1558.7639145108376, 1524.911004675446, 1305.5911467438666, 1298.4407154964006, 1272.4627836260174, 1186.431632521358, 1200.6304254482243, 1045.022833550349, 1026.9352555093947, 1001.2335984794967, 943.8992082926594, 912.2508539117613, 879.0721920884953, 881.4698454998819, 807.8094769728629, 840.4341169579268, 799.7654462857458, 740.5219953154257, 735.7619384797006, 740.8810381069384, 723.1094831517253, 726.1009066465704, 813.7969857937868, 2486.5571501829436, 2399.3928469424277, 1015.5514725691062, 1559.0419886546058, 1373.9265589907463, 1160.0766648266301, 1085.094871611121, 892.4314464607196, 2890.1994734869836, 2715.6624742160216, 2778.637335014326, 2092.595386859499, 2063.206023452225, 1511.287986739269, 1473.797761705378, 1395.3114895041658, 1162.555184398701, 1079.0175511996724, 1020.3879739818494, 1019.4080156678741, 941.1364484908554, 919.4857786383099, 901.2599032375915, 865.9517060059278, 877.2061210036034, 843.4607680959261, 833.6608183150795, 770.224429708622, 803.9918544101114, 765.2395774051167, 700.745282588264, 728.9707805092, 709.7378886818262, 686.7621045901421, 682.4582514531955, 665.5189196486084, 663.9759472718747, 655.3298903396299, 808.1645233639016, 671.7320196144218, 798.6802515643228, 2856.025883782418, 4709.661471567281, 1218.4744039989578, 1912.063805714286, 1465.4323318658887, 1727.9615802903606, 1718.044232031463, 1462.480577752542, 1337.5553980268453, 1419.4141816599904, 1285.6630708817122, 1147.763196148922, 874.9035416099233, 891.8174285226405, 2845.1651695198766, 2233.5903638653294, 2084.2276819756503, 1925.0841189702742, 1601.7625542359178, 1425.8253552131728, 1441.5178064860077, 1382.9763284031726, 1310.7627963042858, 1200.398659337305, 1041.5616689954863, 1017.4868690338258, 937.705440355193, 959.7974380177819, 925.6506645535717, 885.7763782630033, 846.143773843438, 836.3609339988517, 837.6157209991787, 837.8536117820092, 826.5060002941832, 813.8730835462407, 804.4491965667966, 751.0988555186998, 711.6669892178736, 691.3461247647195, 674.6156735502274, 636.8959258529493, 679.6556725364849, 613.4029947409796, 874.1340728545606, 2396.178004105905, 1289.1652197242065, 1211.0600838658909, 2134.494351904156, 1174.440825880315, 1113.054136123945, 1125.3593764841694, 1295.7141981727636, 1301.4070225423425, 973.1532520954361, 1197.559639774452, 1068.390315405722, 884.9654645028845, 27379.021279040644, 2080.3400944438663, 2085.1953783225754, 1908.074337032182, 1770.398321190379, 1343.5116310487656, 1259.7730030573664, 1041.8545917094618, 1135.1530988535499, 1199.0688977483767, 983.7798313159489, 931.8807351605775, 840.8118771158231, 835.6298872138868, 848.6907792195424, 855.0247663809296, 787.2360848377529, 791.4251138911956, 745.9902164046126, 739.6523050608105, 687.5068415985593, 670.826283733467, 678.6707957294781, 662.3306428516793, 707.9657449901896, 649.287017248649, 586.5506492157914, 622.4261313166982, 581.949402636864, 591.7685988984018, 851.1395403951658, 733.976653011089, 880.9808071967925, 3405.4457402941257, 7596.3672485434845, 1539.5225449037991, 2193.3098858945436, 2346.1425211978335, 1742.3484079867355, 1345.4730087684675, 1720.4965625353836, 1571.9963673156055, 1001.3657337385273, 1289.5404238808233, 1236.8533518965546, 950.9387054301145, 885.9063696151126], \"Total\": [27379.0, 12306.0, 5506.0, 3979.0, 2846.0, 2891.0, 4603.0, 2779.0, 2716.0, 2234.0, 2681.0, 2085.0, 3741.0, 2454.0, 3244.0, 4258.0, 1925.0, 2086.0, 2081.0, 2305.0, 2093.0, 2064.0, 2153.0, 2124.0, 1908.0, 3656.0, 3695.0, 1771.0, 3824.0, 1602.0, 5506.736842474973, 3979.9513859041795, 2681.553502710461, 2454.457885847388, 2305.766454961511, 2153.535011623938, 2124.5466034181773, 1856.3405089304156, 1559.514086049308, 1525.665223481155, 1306.3434904652222, 1299.1922248661108, 1273.2304622383795, 1187.1756734728401, 1201.4010495369005, 1045.7816027180163, 1027.687827680916, 1001.992350233433, 944.681810665098, 913.0104356726217, 879.8142796688022, 882.2275240478808, 808.5785619532289, 841.2417988288354, 800.5482504997216, 741.2784605063192, 736.5147274519803, 741.6391819267659, 723.8551784567763, 726.8549171712053, 828.1659711524812, 3824.6309128528032, 3695.605924426321, 1159.5497653790442, 2726.4991186687766, 2666.3924449280917, 4528.540066920889, 5293.395931212217, 2999.132519361749, 2891.04800053094, 2716.5058902633746, 2779.517330370984, 2093.433863883103, 2064.0607964000724, 1512.145268303149, 1474.6523544264148, 1396.1649059492283, 1163.402323561633, 1079.867951264749, 1021.2371176190903, 1020.2638723799886, 941.981738939583, 920.3331116527698, 902.1095495139564, 866.7899063490398, 878.0627623004514, 844.302681319837, 834.5279600166062, 771.0691589922295, 804.8836942986599, 766.108081850662, 701.5754788898691, 729.8567893752682, 710.6041035542987, 687.6095206001662, 683.3042794477298, 666.3557211741163, 664.8212007847357, 656.1643792247618, 809.2393759971754, 672.5934117370449, 801.3283634873328, 3741.5732224861385, 12306.674867727495, 1858.557217123801, 4258.838177066873, 2999.132519361749, 4266.579015076399, 4363.294048951211, 3656.4184825673437, 3824.6309128528032, 5293.395931212217, 4021.5070179753266, 4528.540066920889, 1194.542399260424, 1835.0576652183343, 2846.0025214351563, 2234.473043391642, 2085.053214637751, 1925.9197486636988, 1602.6277410356336, 1426.659944459181, 1442.369363857365, 1383.848769675106, 1311.6225038079183, 1201.23197708166, 1042.3903159861438, 1018.3308977392552, 938.5344089518989, 960.670527034377, 926.5003452831298, 886.6274005155524, 846.9779783484566, 837.1868520415459, 838.4431698900727, 838.6907985987206, 827.3362868564504, 814.7039738037919, 805.2819088902899, 751.9311065505575, 712.5008990552118, 692.1792551128339, 675.4501809219319, 637.7251932237529, 680.5528954114073, 614.2366026462662, 911.6077860897419, 3244.717742480499, 1690.4750068293858, 1631.3264782758972, 4363.294048951211, 1862.6388122870637, 1811.370515912469, 2160.04911816339, 3695.605924426321, 4266.579015076399, 1660.8309475999397, 4603.626619385332, 5293.395931212217, 3741.5732224861385, 27379.91965976144, 2081.2126038114616, 2086.084712995253, 1908.9799077398043, 1771.2690259124886, 1344.3906980194138, 1260.665426845847, 1042.7233622222932, 1136.147031136557, 1200.1495330919324, 984.6795499795913, 932.7550450460116, 841.6800280385983, 836.5028303483581, 849.5800073231749, 855.9302753798362, 788.1205720431209, 792.3151197255752, 746.8586594607212, 740.5243380066273, 688.3854866031361, 671.6934820349295, 679.5524535996394, 663.2006924295227, 708.9274819930752, 650.1971281990901, 587.4229154393161, 623.3556654039866, 582.8188508123221, 592.6596507773496, 852.5249357856565, 735.4343098383785, 915.6857711264829, 4603.626619385332, 12306.674867727495, 2053.8488038893965, 3656.4184825673437, 4258.838177066873, 3186.9379082926253, 2397.4619644624354, 5293.395931212217, 4528.540066920889, 1792.7567272298343, 4021.5070179753266, 4266.579015076399, 2340.739912358152, 1540.9656562805312], \"Category\": [\"Default\", \"Default\", \"Default\", \"Default\", \"Default\", \"Default\", \"Default\", \"Default\", \"Default\", \"Default\", \"Default\", \"Default\", \"Default\", \"Default\", \"Default\", \"Default\", \"Default\", \"Default\", \"Default\", \"Default\", \"Default\", \"Default\", \"Default\", \"Default\", \"Default\", \"Default\", \"Default\", \"Default\", \"Default\", \"Default\", \"Topic1\", \"Topic1\", \"Topic1\", \"Topic1\", \"Topic1\", \"Topic1\", \"Topic1\", \"Topic1\", \"Topic1\", \"Topic1\", \"Topic1\", \"Topic1\", \"Topic1\", \"Topic1\", \"Topic1\", \"Topic1\", \"Topic1\", \"Topic1\", \"Topic1\", \"Topic1\", \"Topic1\", \"Topic1\", \"Topic1\", \"Topic1\", \"Topic1\", \"Topic1\", \"Topic1\", \"Topic1\", \"Topic1\", \"Topic1\", \"Topic1\", \"Topic1\", \"Topic1\", \"Topic1\", \"Topic1\", \"Topic1\", \"Topic1\", \"Topic1\", \"Topic1\", \"Topic2\", \"Topic2\", \"Topic2\", \"Topic2\", \"Topic2\", \"Topic2\", \"Topic2\", \"Topic2\", \"Topic2\", \"Topic2\", \"Topic2\", \"Topic2\", \"Topic2\", \"Topic2\", \"Topic2\", \"Topic2\", \"Topic2\", \"Topic2\", \"Topic2\", \"Topic2\", \"Topic2\", \"Topic2\", \"Topic2\", \"Topic2\", \"Topic2\", \"Topic2\", \"Topic2\", \"Topic2\", \"Topic2\", \"Topic2\", \"Topic2\", \"Topic2\", \"Topic2\", \"Topic2\", \"Topic2\", \"Topic2\", \"Topic2\", \"Topic2\", \"Topic2\", \"Topic2\", \"Topic2\", \"Topic2\", \"Topic2\", \"Topic2\", \"Topic2\", \"Topic2\", \"Topic2\", \"Topic3\", \"Topic3\", \"Topic3\", \"Topic3\", \"Topic3\", \"Topic3\", \"Topic3\", \"Topic3\", \"Topic3\", \"Topic3\", \"Topic3\", \"Topic3\", \"Topic3\", \"Topic3\", \"Topic3\", \"Topic3\", \"Topic3\", \"Topic3\", \"Topic3\", \"Topic3\", \"Topic3\", \"Topic3\", \"Topic3\", \"Topic3\", \"Topic3\", \"Topic3\", \"Topic3\", \"Topic3\", \"Topic3\", \"Topic3\", \"Topic3\", \"Topic3\", \"Topic3\", \"Topic3\", \"Topic3\", \"Topic3\", \"Topic3\", \"Topic3\", \"Topic3\", \"Topic3\", \"Topic3\", \"Topic3\", \"Topic3\", \"Topic3\", \"Topic4\", \"Topic4\", \"Topic4\", \"Topic4\", \"Topic4\", \"Topic4\", \"Topic4\", \"Topic4\", \"Topic4\", \"Topic4\", \"Topic4\", \"Topic4\", \"Topic4\", \"Topic4\", \"Topic4\", \"Topic4\", \"Topic4\", \"Topic4\", \"Topic4\", \"Topic4\", \"Topic4\", \"Topic4\", \"Topic4\", \"Topic4\", \"Topic4\", \"Topic4\", \"Topic4\", \"Topic4\", \"Topic4\", \"Topic4\", \"Topic4\", \"Topic4\", \"Topic4\", \"Topic4\", \"Topic4\", \"Topic4\", \"Topic4\", \"Topic4\", \"Topic4\", \"Topic4\", \"Topic4\", \"Topic4\", \"Topic4\", \"Topic4\", \"Topic4\", \"Topic4\", \"Topic4\"], \"logprob\": [30.0, 29.0, 28.0, 27.0, 26.0, 25.0, 24.0, 23.0, 22.0, 21.0, 20.0, 19.0, 18.0, 17.0, 16.0, 15.0, 14.0, 13.0, 12.0, 11.0, 10.0, 9.0, 8.0, 7.0, 6.0, 5.0, 4.0, 3.0, 2.0, 1.0, -4.1557, -4.4805, -4.8754, -4.964, -5.0265, -5.0948, -5.1084, -5.2434, -5.4177, -5.4396, -5.5949, -5.6004, -5.6206, -5.6906, -5.6787, -5.8175, -5.835, -5.8603, -5.9193, -5.9534, -5.9904, -5.9877, -6.075, -6.0354, -6.085, -6.162, -6.1684, -6.1615, -6.1858, -6.1816, -6.0676, -4.9507, -4.9863, -5.8461, -5.4175, -5.5439, -5.7131, -5.7799, -5.9754, -4.6911, -4.7534, -4.7304, -5.014, -5.0281, -5.3394, -5.3645, -5.4193, -5.6018, -5.6763, -5.7322, -5.7332, -5.8131, -5.8363, -5.8564, -5.8963, -5.8834, -5.9226, -5.9343, -6.0135, -5.9706, -6.02, -6.108, -6.0685, -6.0952, -6.1282, -6.1344, -6.1596, -6.1619, -6.175, -5.9654, -6.1503, -5.9772, -4.703, -4.2028, -5.5548, -5.1042, -5.3702, -5.2054, -5.2112, -5.3723, -5.4615, -5.4021, -5.5011, -5.6146, -5.886, -5.8669, -4.5579, -4.7999, -4.8691, -4.9485, -5.1324, -5.2488, -5.2378, -5.2793, -5.3329, -5.4209, -5.5628, -5.5862, -5.6678, -5.6445, -5.6808, -5.7248, -5.7706, -5.7822, -5.7807, -5.7804, -5.7941, -5.8095, -5.8211, -5.8897, -5.9437, -5.9726, -5.9971, -6.0547, -5.9897, -6.0922, -5.738, -4.7296, -5.3495, -5.412, -4.8453, -5.4427, -5.4964, -5.4854, -5.3444, -5.3401, -5.6307, -5.4232, -5.5374, -5.7257, -2.4152, -4.9925, -4.9902, -5.0789, -5.1538, -5.4297, -5.4941, -5.684, -5.5983, -5.5435, -5.7414, -5.7956, -5.8984, -5.9046, -5.8891, -5.8816, -5.9643, -5.9589, -6.0181, -6.0266, -6.0997, -6.1243, -6.1126, -6.137, -6.0704, -6.1569, -6.2585, -6.1992, -6.2664, -6.2497, -5.8862, -6.0343, -5.8517, -4.4996, -3.6974, -5.2936, -4.9396, -4.8723, -5.1698, -5.4283, -5.1824, -5.2727, -5.7237, -5.4707, -5.5125, -5.7753, -5.8462], \"loglift\": [30.0, 29.0, 28.0, 27.0, 26.0, 25.0, 24.0, 23.0, 22.0, 21.0, 20.0, 19.0, 18.0, 17.0, 16.0, 15.0, 14.0, 13.0, 12.0, 11.0, 10.0, 9.0, 8.0, 7.0, 6.0, 5.0, 4.0, 3.0, 2.0, 1.0, 1.2644, 1.2644, 1.2643, 1.2643, 1.2642, 1.2642, 1.2642, 1.2641, 1.2641, 1.2641, 1.264, 1.264, 1.264, 1.2639, 1.2639, 1.2638, 1.2638, 1.2638, 1.2637, 1.2637, 1.2637, 1.2637, 1.2636, 1.2636, 1.2636, 1.2635, 1.2635, 1.2635, 1.2635, 1.2635, 1.2471, 0.834, 0.8326, 1.132, 0.7056, 0.6015, -0.0974, -0.3202, 0.0524, 1.3734, 1.3734, 1.3734, 1.3733, 1.3733, 1.3732, 1.3731, 1.3731, 1.373, 1.3729, 1.3729, 1.3729, 1.3728, 1.3728, 1.3728, 1.3728, 1.3727, 1.3727, 1.3727, 1.3726, 1.3726, 1.3726, 1.3725, 1.3725, 1.3725, 1.3725, 1.3725, 1.3725, 1.3724, 1.3724, 1.3724, 1.3724, 1.3704, 1.1036, 0.4132, 0.9515, 0.5729, 0.6575, 0.4699, 0.4417, 0.4574, 0.3231, 0.0575, 0.2333, 0.0011, 1.0623, 0.6522, 1.5223, 1.5222, 1.5222, 1.5222, 1.5221, 1.522, 1.522, 1.522, 1.5219, 1.5219, 1.5218, 1.5218, 1.5217, 1.5217, 1.5217, 1.5216, 1.5216, 1.5216, 1.5216, 1.5216, 1.5216, 1.5216, 1.5216, 1.5215, 1.5214, 1.5214, 1.5214, 1.5213, 1.5213, 1.5212, 1.4806, 1.2195, 1.2516, 1.2247, 0.8076, 1.0614, 1.0356, 0.8706, 0.4745, 0.3352, 0.9881, 0.176, -0.0777, 0.0809, 1.4011, 1.4007, 1.4007, 1.4006, 1.4006, 1.4004, 1.4004, 1.4003, 1.4002, 1.4002, 1.4002, 1.4001, 1.4001, 1.4, 1.4, 1.4, 1.4, 1.4, 1.3999, 1.3999, 1.3998, 1.3998, 1.3998, 1.3998, 1.3997, 1.3997, 1.3996, 1.3996, 1.3996, 1.3996, 1.3995, 1.3991, 1.3625, 1.0996, 0.9186, 1.1128, 0.89, 0.8049, 0.7973, 0.8234, 0.2772, 0.343, 0.8187, 0.2637, 0.1628, 0.5003, 0.8475]}, \"token.table\": {\"Topic\": [4, 2, 4, 1, 3, 1, 3, 4, 2, 4, 3, 2, 1, 4, 3, 3, 1, 2, 1, 3, 1, 2, 3, 1, 2, 1, 2, 3, 4, 1, 2, 3, 4, 4, 4, 1, 2, 3, 4, 2, 4, 1, 1, 1, 2, 4, 4, 3, 3, 3, 3, 3, 3, 4, 3, 4, 1, 1, 1, 1, 1, 2, 4, 2, 2, 3, 2, 1, 2, 3, 4, 4, 4, 1, 2, 1, 1, 2, 3, 2, 2, 3, 1, 3, 2, 3, 4, 3, 1, 1, 2, 3, 2, 3, 3, 4, 3, 4, 3, 2, 4, 2, 3, 4, 2, 4, 4, 2, 3, 4, 2, 4, 1, 2, 3, 2, 1, 4, 3, 2, 4, 4, 2, 2, 3, 1, 2, 3, 4, 2, 4, 3, 2, 4, 1, 1, 1, 4, 4, 2, 2, 3, 2, 3, 3, 2, 2, 1, 2, 2, 3, 1, 2, 3, 3, 4, 1, 1, 2, 3, 4, 1, 1, 4, 3, 2, 4, 3, 2, 3, 4, 2, 1, 4, 2, 4, 1, 4, 1, 2, 1, 3, 3, 2, 1, 1, 2, 3, 2, 3, 2, 2, 4, 1, 3, 3, 1, 2, 4, 1, 2, 3, 4, 3, 2, 4, 1, 2, 2, 1, 2, 3, 4, 2, 3, 4, 1, 2, 4, 4, 2], \"Freq\": [0.9992919368348666, 0.9986134071376594, 0.9992835498764312, 0.9997370596112514, 0.9993020218529584, 0.9997427199679697, 0.2602296187434842, 0.739634266962908, 0.9987886088375102, 0.9985950165970424, 0.9995935306334403, 0.9987647794869262, 0.9828947679016952, 0.016904824017965274, 0.9995374199284531, 0.9988628436959077, 0.9986086083074708, 0.9992426201852722, 0.9992526138191905, 0.9989744053561969, 0.2974193351715676, 0.48847458074702527, 0.21372846843607043, 0.9988185779666596, 0.9980912172117758, 0.24070172069703097, 0.1446418596849131, 0.6144518695775125, 0.9991905216165576, 0.007678740908988786, 0.012066592856982378, 0.9587456506365999, 0.02084229675296956, 0.999306275999464, 0.9991920587207196, 0.25615319349238397, 0.25350333287004895, 0.14331329532461828, 0.3471317415258859, 0.9989020844813736, 0.9989131411674586, 0.9990096229445247, 0.9988238131833345, 0.999866192539057, 0.9993673549097196, 0.9993988898421914, 0.9994721622155437, 0.999788297561682, 0.9988453320234327, 0.997986764968192, 0.9994305920520318, 0.9984081240666931, 0.9982963154354552, 0.9981588226905801, 0.9996083051481264, 0.9994800244743198, 0.999033590324083, 0.9990096887098429, 0.9993151562077872, 0.9988932923073576, 0.25049227958246534, 0.17391691950285157, 0.5749641443265914, 0.9987896510977564, 0.999637501511304, 0.9991763369767801, 0.9991962431483103, 0.14720849605729375, 0.31978061812445907, 0.21260686508274687, 0.3207752701248462, 0.9988503052755106, 0.9997093865496174, 0.9998134472585462, 0.9996541836358025, 0.9996661817991127, 0.9998165697894447, 0.9991656387119713, 0.9995224366621003, 0.9995576215475758, 0.41364836137764716, 0.5858513182248191, 0.9992844703279897, 0.9996255567802598, 0.25322112423343174, 0.1998783843081735, 0.5466061938223521, 0.9992923740962804, 0.9996675921102669, 0.9993307036802527, 0.7633152768028131, 0.23653151959751034, 0.9989577940855964, 0.9987617129515642, 0.7384309484400091, 0.2613478481957962, 0.999135914606498, 0.9981895488903605, 0.9986930596506403, 0.2502618493759776, 0.7498117666128513, 0.997094370306325, 0.001247927872723811, 0.001247927872723811, 0.3998448227330535, 0.5997672340995802, 0.9983401557122491, 0.4050083202242202, 0.304928139242888, 0.2899278310864354, 0.9985514900682256, 0.9994866851474804, 0.24814250541475694, 0.2305503128666958, 0.5208214899097044, 0.9987612298992413, 0.9991381497332634, 0.9994173570690276, 0.9994599621190892, 0.03713064139696412, 0.9621204432566292, 0.9978252136312774, 0.9984570920492629, 0.25745919384811683, 0.7423406755954036, 0.20497238712153712, 0.26806987771931906, 0.2017608381988955, 0.3249331851143261, 0.99846846800349, 0.9992800494699806, 0.9991875790770487, 0.999792750136229, 0.9993173011156391, 0.9993011308086654, 0.9995639780792558, 0.9990823337430043, 0.9999664111592412, 0.9989904201611921, 0.9988260856270151, 0.9982254763263171, 0.9985823331569869, 0.732498068332893, 0.2670478671979347, 0.9996477440102018, 0.9985536220320438, 0.9990886991839038, 0.9996703549817814, 0.9991498732539298, 0.9991135657929311, 0.9993335098062786, 0.5153029902307027, 0.26777753640809443, 0.2167722913779812, 0.999296984669246, 0.9994400134653647, 0.9992782642182789, 0.045881854073403186, 0.29447808159838773, 0.09843743237566502, 0.5610099429884299, 0.9985238503001584, 0.9997515658575087, 0.9989675617622066, 0.9995253940778608, 0.9994860633941004, 0.9988869652649975, 0.9994714371754847, 0.2372114336976244, 0.762507576150219, 0.9986917110471333, 0.9998138776235244, 0.001172986217791314, 0.9982112713404082, 0.0013597407499519071, 0.9980497104646999, 0.9997935887872826, 0.9990421751121539, 0.34435313268989814, 0.6553470556504624, 0.8762021521929942, 0.12418613180688107, 0.9994948739771451, 0.9994661692504275, 0.9997609553956993, 0.571795526844398, 0.2629745944499252, 0.16541358730392783, 0.36936844409208397, 0.6302885950059689, 0.9987700501401917, 0.9991177259148103, 0.9993098770258757, 0.6491493002929968, 0.35068674163389907, 0.9997439186753265, 0.9990744868688551, 0.38271913824190684, 0.6172260242219797, 0.9996243510082176, 0.39373922103942305, 0.4890800335844754, 0.11688416922590555, 0.9993866600934252, 0.4489487321438505, 0.5508544590007705, 0.650258824097863, 0.34983767858582254, 0.9998137717038686, 0.22669587331496993, 0.486088266819599, 0.2871844356658393, 0.9991870331764486, 0.31742099841048677, 0.2759811103272873, 0.40628178935178055, 0.05801121726130722, 0.38320871402421214, 0.558357966140082, 0.9985781718142239, 0.9991797334610671], \"Term\": [\"ad\", \"advice\", \"baby\", \"bad\", \"bank\", \"beauty\", \"best\", \"best\", \"black\", \"boy\", \"brain\", \"bride\", \"call\", \"call\", \"cancer\", \"care\", \"cause\", \"celebrity\", \"challenge\", \"change\", \"child\", \"child\", \"child\", \"conversation\", \"cost\", \"could\", \"could\", \"could\", \"cover\", \"craft_day\", \"craft_day\", \"craft_day\", \"craft_day\", \"dad\", \"daughter\", \"day\", \"day\", \"day\", \"day\", \"design\", \"designer\", \"diet\", \"dinner\", \"divorce\", \"diy\", \"dog\", \"dont\", \"dress\", \"drug\", \"easy\", \"eat\", \"eating\", \"every\", \"exercise\", \"fall\", \"fashion\", \"favorite\", \"fear\", \"fearless\", \"finding\", \"first\", \"first\", \"first\", \"five\", \"food\", \"friend\", \"game\", \"get\", \"get\", \"get\", \"get\", \"gift\", \"girl\", \"good\", \"great\", \"green\", \"guide\", \"hair\", \"health\", \"healthy\", \"help\", \"help\", \"hit\", \"holiday\", \"home\", \"home\", \"home\", \"hot\", \"hotel\", \"im\", \"kid\", \"kid\", \"le\", \"lesson\", \"life\", \"life\", \"linked\", \"little\", \"living\", \"look\", \"look\", \"look_day\", \"look_day\", \"look_day\", \"love\", \"love\", \"magazine\", \"make\", \"make\", \"make\", \"making\", \"marriage\", \"may\", \"may\", \"may\", \"men\", \"mistake\", \"mom\", \"moment\", \"mother\", \"mother\", \"mothers_day\", \"much\", \"need\", \"need\", \"new\", \"new\", \"new\", \"new\", \"new_york_fashion_week\", \"old\", \"outfit\", \"parent\", \"parenting\", \"paris\", \"part\", \"perfect\", \"photo\", \"photos_poll\", \"poll\", \"power\", \"question\", \"reason\", \"reason\", \"recipe\", \"red\", \"relationship\", \"report\", \"room\", \"rule\", \"save\", \"say\", \"say\", \"say\", \"season\", \"share\", \"shoe\", \"show\", \"show\", \"show\", \"show\", \"singer\", \"sleep\", \"son\", \"spring\", \"star\", \"stay\", \"stress\", \"study\", \"study\", \"study_finds\", \"style\", \"style_evolution\", \"style_evolution\", \"stylelist_network\", \"stylelist_network\", \"summer\", \"super_bowl\", \"talk\", \"talk\", \"tax\", \"tax\", \"thing\", \"think\", \"tip\", \"top\", \"top\", \"top\", \"travel\", \"travel\", \"trend\", \"turn\", \"two\", \"u\", \"u\", \"v\", \"vacation\", \"video\", \"video\", \"visit\", \"way\", \"way\", \"way\", \"wear\", \"wedding\", \"wedding\", \"week\", \"week\", \"woman\", \"work\", \"work\", \"work\", \"workout\", \"world\", \"world\", \"world\", \"year\", \"year\", \"year\", \"yoga\", \"youre\"]}, \"R\": 30, \"lambda.step\": 0.01, \"plot.opts\": {\"xlab\": \"PC1\", \"ylab\": \"PC2\"}, \"topic.order\": [1, 2, 3, 4]};\n",
       "\n",
       "function LDAvis_load_lib(url, callback){\n",
       "  var s = document.createElement('script');\n",
       "  s.src = url;\n",
       "  s.async = true;\n",
       "  s.onreadystatechange = s.onload = callback;\n",
       "  s.onerror = function(){console.warn(\"failed to load library \" + url);};\n",
       "  document.getElementsByTagName(\"head\")[0].appendChild(s);\n",
       "}\n",
       "\n",
       "if(typeof(LDAvis) !== \"undefined\"){\n",
       "   // already loaded: just create the visualization\n",
       "   !function(LDAvis){\n",
       "       new LDAvis(\"#\" + \"ldavis_el101601173458437443742538500\", ldavis_el101601173458437443742538500_data);\n",
       "   }(LDAvis);\n",
       "}else if(typeof define === \"function\" && define.amd){\n",
       "   // require.js is available: use it to load d3/LDAvis\n",
       "   require.config({paths: {d3: \"https://d3js.org/d3.v5\"}});\n",
       "   require([\"d3\"], function(d3){\n",
       "      window.d3 = d3;\n",
       "      LDAvis_load_lib(\"https://cdn.jsdelivr.net/gh/bmabey/pyLDAvis@3.3.1/pyLDAvis/js/ldavis.v3.0.0.js\", function(){\n",
       "        new LDAvis(\"#\" + \"ldavis_el101601173458437443742538500\", ldavis_el101601173458437443742538500_data);\n",
       "      });\n",
       "    });\n",
       "}else{\n",
       "    // require.js not available: dynamically load d3 & LDAvis\n",
       "    LDAvis_load_lib(\"https://d3js.org/d3.v5.js\", function(){\n",
       "         LDAvis_load_lib(\"https://cdn.jsdelivr.net/gh/bmabey/pyLDAvis@3.3.1/pyLDAvis/js/ldavis.v3.0.0.js\", function(){\n",
       "                 new LDAvis(\"#\" + \"ldavis_el101601173458437443742538500\", ldavis_el101601173458437443742538500_data);\n",
       "            })\n",
       "         });\n",
       "}\n",
       "</script>"
      ],
      "text/plain": [
       "<IPython.core.display.HTML object>"
      ]
     },
     "execution_count": 143,
     "metadata": {},
     "output_type": "execute_result"
    }
   ],
   "source": [
    "lda_display = pyLDAvis.gensim_models.prepare(lda_test, c, t, sort_topics=False)\n",
    "pyLDAvis.display(lda_display)"
   ]
  },
  {
   "cell_type": "markdown",
   "metadata": {},
   "source": [
    "# HDP"
   ]
  },
  {
   "cell_type": "code",
   "execution_count": 134,
   "metadata": {},
   "outputs": [],
   "source": [
    "hdp = HdpModel(c, t)"
   ]
  },
  {
   "cell_type": "code",
   "execution_count": 135,
   "metadata": {
    "scrolled": true
   },
   "outputs": [
    {
     "name": "stdout",
     "output_type": "stream",
     "text": [
      "[(0, '0.004*photo + 0.003*trump + 0.003*new + 0.002*video + 0.002*say + 0.002*woman + 0.002*u + 0.002*make + 0.001*get + 0.001*way'), (1, '0.004*photo + 0.003*trump + 0.002*new + 0.002*say + 0.002*video + 0.002*woman + 0.002*u + 0.002*make + 0.001*get + 0.001*way'), (2, '0.004*photo + 0.003*trump + 0.002*new + 0.002*video + 0.002*say + 0.002*u + 0.002*woman + 0.001*make + 0.001*get + 0.001*way'), (3, '0.004*photo + 0.003*trump + 0.002*new + 0.002*video + 0.002*woman + 0.002*say + 0.002*make + 0.002*u + 0.001*get + 0.001*way'), (4, '0.004*photo + 0.003*trump + 0.002*new + 0.002*video + 0.002*say + 0.002*woman + 0.002*make + 0.002*u + 0.001*get + 0.001*way'), (5, '0.004*photo + 0.003*trump + 0.002*new + 0.002*video + 0.002*say + 0.002*woman + 0.002*make + 0.001*u + 0.001*get + 0.001*way'), (6, '0.004*photo + 0.003*trump + 0.002*new + 0.002*video + 0.002*say + 0.002*u + 0.002*woman + 0.002*make + 0.001*way + 0.001*get'), (7, '0.004*photo + 0.003*trump + 0.002*video + 0.002*new + 0.002*say + 0.002*woman + 0.002*make + 0.002*u + 0.001*get + 0.001*way'), (8, '0.004*photo + 0.003*trump + 0.002*new + 0.002*video + 0.002*say + 0.002*make + 0.002*u + 0.002*woman + 0.001*way + 0.001*get'), (9, '0.004*photo + 0.003*trump + 0.002*new + 0.002*video + 0.002*say + 0.002*woman + 0.002*u + 0.002*make + 0.001*get + 0.001*way'), (10, '0.004*photo + 0.003*trump + 0.002*video + 0.002*new + 0.002*say + 0.002*woman + 0.002*u + 0.002*make + 0.001*get + 0.001*way'), (11, '0.004*photo + 0.003*trump + 0.002*new + 0.002*video + 0.002*say + 0.002*make + 0.002*woman + 0.002*u + 0.001*way + 0.001*get'), (12, '0.004*photo + 0.003*trump + 0.002*new + 0.002*video + 0.002*say + 0.002*woman + 0.002*u + 0.001*get + 0.001*make + 0.001*way'), (13, '0.004*photo + 0.003*trump + 0.002*new + 0.002*video + 0.002*u + 0.002*make + 0.002*say + 0.002*woman + 0.001*get + 0.001*way'), (14, '0.004*photo + 0.003*trump + 0.002*new + 0.002*video + 0.002*say + 0.002*u + 0.002*woman + 0.002*make + 0.001*way + 0.001*get'), (15, '0.004*photo + 0.003*trump + 0.002*new + 0.002*video + 0.002*make + 0.002*say + 0.002*woman + 0.002*u + 0.001*way + 0.001*get'), (16, '0.004*photo + 0.003*trump + 0.002*video + 0.002*new + 0.002*say + 0.002*woman + 0.002*u + 0.001*get + 0.001*make + 0.001*way'), (17, '0.004*photo + 0.003*trump + 0.002*new + 0.002*video + 0.002*say + 0.002*u + 0.002*woman + 0.001*way + 0.001*make + 0.001*get'), (18, '0.004*photo + 0.003*trump + 0.002*new + 0.002*video + 0.002*say + 0.002*get + 0.002*u + 0.002*woman + 0.001*make + 0.001*way'), (19, '0.004*photo + 0.003*trump + 0.002*video + 0.002*new + 0.002*say + 0.002*woman + 0.001*u + 0.001*get + 0.001*make + 0.001*way')]\n"
     ]
    }
   ],
   "source": [
    "print(hdp.print_topics())"
   ]
  },
  {
   "cell_type": "code",
   "execution_count": 139,
   "metadata": {},
   "outputs": [
    {
     "name": "stderr",
     "output_type": "stream",
     "text": [
      "//anaconda3/lib/python3.7/site-packages/scipy/sparse/lil.py:504: FutureWarning: future versions will not create a writeable array from broadcast_array. Set the writable flag explicitly to avoid this warning.\n",
      "  if not i.flags.writeable or i.dtype not in (np.int32, np.int64):\n",
      "//anaconda3/lib/python3.7/site-packages/scipy/sparse/lil.py:506: FutureWarning: future versions will not create a writeable array from broadcast_array. Set the writable flag explicitly to avoid this warning.\n",
      "  if not j.flags.writeable or j.dtype not in (np.int32, np.int64):\n"
     ]
    },
    {
     "name": "stdout",
     "output_type": "stream",
     "text": [
      "Coherence Score:  0.306\n"
     ]
    }
   ],
   "source": [
    "coherence_using_hdp = CoherenceModel(model=hdp, texts=global_prepro, dictionary=t, coherence='c_v')\n",
    "coherence = coherence_using_hdp.get_coherence()\n",
    "print('Coherence Score: ', round(coherence, 3))"
   ]
  },
  {
   "cell_type": "markdown",
   "metadata": {},
   "source": [
    "# NMF"
   ]
  },
  {
   "cell_type": "code",
   "execution_count": 146,
   "metadata": {},
   "outputs": [
    {
     "name": "stdout",
     "output_type": "stream",
     "text": [
      "2\n"
     ]
    },
    {
     "name": "stderr",
     "output_type": "stream",
     "text": [
      "//anaconda3/lib/python3.7/site-packages/scipy/sparse/lil.py:504: FutureWarning: future versions will not create a writeable array from broadcast_array. Set the writable flag explicitly to avoid this warning.\n",
      "  if not i.flags.writeable or i.dtype not in (np.int32, np.int64):\n",
      "//anaconda3/lib/python3.7/site-packages/scipy/sparse/lil.py:506: FutureWarning: future versions will not create a writeable array from broadcast_array. Set the writable flag explicitly to avoid this warning.\n",
      "  if not j.flags.writeable or j.dtype not in (np.int32, np.int64):\n"
     ]
    },
    {
     "name": "stdout",
     "output_type": "stream",
     "text": [
      "3\n"
     ]
    },
    {
     "ename": "KeyboardInterrupt",
     "evalue": "",
     "output_type": "error",
     "traceback": [
      "\u001b[0;31m---------------------------------------------------------------------------\u001b[0m",
      "\u001b[0;31mKeyboardInterrupt\u001b[0m                         Traceback (most recent call last)",
      "\u001b[0;32m<ipython-input-146-9de7e16b24ec>\u001b[0m in \u001b[0;36m<module>\u001b[0;34m\u001b[0m\n\u001b[1;32m      9\u001b[0m         \u001b[0meval_every\u001b[0m\u001b[0;34m=\u001b[0m\u001b[0;36m10\u001b[0m\u001b[0;34m,\u001b[0m\u001b[0;34m\u001b[0m\u001b[0;34m\u001b[0m\u001b[0m\n\u001b[1;32m     10\u001b[0m         \u001b[0mnormalize\u001b[0m\u001b[0;34m=\u001b[0m\u001b[0;32mTrue\u001b[0m\u001b[0;34m,\u001b[0m\u001b[0;34m\u001b[0m\u001b[0;34m\u001b[0m\u001b[0m\n\u001b[0;32m---> 11\u001b[0;31m         random_state=42)\n\u001b[0m\u001b[1;32m     12\u001b[0m     \u001b[0mcoherencemodel\u001b[0m \u001b[0;34m=\u001b[0m \u001b[0mCoherenceModel\u001b[0m\u001b[0;34m(\u001b[0m\u001b[0mmodel\u001b[0m\u001b[0;34m=\u001b[0m\u001b[0mnmf\u001b[0m\u001b[0;34m,\u001b[0m \u001b[0mtexts\u001b[0m\u001b[0;34m=\u001b[0m\u001b[0mglobal_prepro\u001b[0m\u001b[0;34m,\u001b[0m\u001b[0mdictionary\u001b[0m\u001b[0;34m=\u001b[0m\u001b[0mt\u001b[0m\u001b[0;34m,\u001b[0m \u001b[0mcoherence\u001b[0m\u001b[0;34m=\u001b[0m\u001b[0;34m'c_v'\u001b[0m\u001b[0;34m)\u001b[0m\u001b[0;34m\u001b[0m\u001b[0;34m\u001b[0m\u001b[0m\n\u001b[1;32m     13\u001b[0m     \u001b[0mcoherence\u001b[0m \u001b[0;34m=\u001b[0m \u001b[0mcoherence\u001b[0m\u001b[0;34m.\u001b[0m\u001b[0mappend\u001b[0m\u001b[0;34m(\u001b[0m\u001b[0;34m{\u001b[0m\u001b[0;34m'nb_topics'\u001b[0m\u001b[0;34m:\u001b[0m\u001b[0mnb_topics\u001b[0m\u001b[0;34m,\u001b[0m\u001b[0;34m'coherence'\u001b[0m\u001b[0;34m:\u001b[0m\u001b[0mcoherencemodel\u001b[0m\u001b[0;34m.\u001b[0m\u001b[0mget_coherence\u001b[0m\u001b[0;34m(\u001b[0m\u001b[0;34m)\u001b[0m\u001b[0;34m}\u001b[0m\u001b[0;34m,\u001b[0m \u001b[0mignore_index\u001b[0m\u001b[0;34m=\u001b[0m\u001b[0;32mTrue\u001b[0m\u001b[0;34m)\u001b[0m\u001b[0;34m\u001b[0m\u001b[0;34m\u001b[0m\u001b[0m\n",
      "\u001b[0;32m//anaconda3/lib/python3.7/site-packages/gensim/models/nmf.py\u001b[0m in \u001b[0;36m__init__\u001b[0;34m(self, corpus, num_topics, id2word, chunksize, passes, kappa, minimum_probability, w_max_iter, w_stop_condition, h_max_iter, h_stop_condition, eval_every, normalize, random_state)\u001b[0m\n\u001b[1;32m    217\u001b[0m \u001b[0;34m\u001b[0m\u001b[0m\n\u001b[1;32m    218\u001b[0m         \u001b[0;32mif\u001b[0m \u001b[0mcorpus\u001b[0m \u001b[0;32mis\u001b[0m \u001b[0;32mnot\u001b[0m \u001b[0;32mNone\u001b[0m\u001b[0;34m:\u001b[0m\u001b[0;34m\u001b[0m\u001b[0;34m\u001b[0m\u001b[0m\n\u001b[0;32m--> 219\u001b[0;31m             \u001b[0mself\u001b[0m\u001b[0;34m.\u001b[0m\u001b[0mupdate\u001b[0m\u001b[0;34m(\u001b[0m\u001b[0mcorpus\u001b[0m\u001b[0;34m)\u001b[0m\u001b[0;34m\u001b[0m\u001b[0;34m\u001b[0m\u001b[0m\n\u001b[0m\u001b[1;32m    220\u001b[0m \u001b[0;34m\u001b[0m\u001b[0m\n\u001b[1;32m    221\u001b[0m     \u001b[0;32mdef\u001b[0m \u001b[0mget_topics\u001b[0m\u001b[0;34m(\u001b[0m\u001b[0mself\u001b[0m\u001b[0;34m,\u001b[0m \u001b[0mnormalize\u001b[0m\u001b[0;34m=\u001b[0m\u001b[0;32mNone\u001b[0m\u001b[0;34m)\u001b[0m\u001b[0;34m:\u001b[0m\u001b[0;34m\u001b[0m\u001b[0;34m\u001b[0m\u001b[0m\n",
      "\u001b[0;32m//anaconda3/lib/python3.7/site-packages/gensim/models/nmf.py\u001b[0m in \u001b[0;36mupdate\u001b[0;34m(self, corpus, chunksize, passes, eval_every)\u001b[0m\n\u001b[1;32m    664\u001b[0m                 \u001b[0mself\u001b[0m\u001b[0;34m.\u001b[0m\u001b[0mB\u001b[0m \u001b[0;34m/=\u001b[0m \u001b[0mchunk_overall_idx\u001b[0m\u001b[0;34m\u001b[0m\u001b[0;34m\u001b[0m\u001b[0m\n\u001b[1;32m    665\u001b[0m \u001b[0;34m\u001b[0m\u001b[0m\n\u001b[0;32m--> 666\u001b[0;31m                 \u001b[0mself\u001b[0m\u001b[0;34m.\u001b[0m\u001b[0m_solve_w\u001b[0m\u001b[0;34m(\u001b[0m\u001b[0;34m)\u001b[0m\u001b[0;34m\u001b[0m\u001b[0;34m\u001b[0m\u001b[0m\n\u001b[0m\u001b[1;32m    667\u001b[0m \u001b[0;34m\u001b[0m\u001b[0m\n\u001b[1;32m    668\u001b[0m                 \u001b[0mchunk_overall_idx\u001b[0m \u001b[0;34m+=\u001b[0m \u001b[0;36m1\u001b[0m\u001b[0;34m\u001b[0m\u001b[0;34m\u001b[0m\u001b[0m\n",
      "\u001b[0;32m//anaconda3/lib/python3.7/site-packages/gensim/models/nmf.py\u001b[0m in \u001b[0;36m_solve_w\u001b[0;34m(self)\u001b[0m\n\u001b[1;32m    682\u001b[0m             \u001b[0mlogger\u001b[0m\u001b[0;34m.\u001b[0m\u001b[0mdebug\u001b[0m\u001b[0;34m(\u001b[0m\u001b[0;34m\"w_error: %s\"\u001b[0m\u001b[0;34m,\u001b[0m \u001b[0mself\u001b[0m\u001b[0;34m.\u001b[0m\u001b[0m_w_error\u001b[0m\u001b[0;34m)\u001b[0m\u001b[0;34m\u001b[0m\u001b[0;34m\u001b[0m\u001b[0m\n\u001b[1;32m    683\u001b[0m \u001b[0;34m\u001b[0m\u001b[0m\n\u001b[0;32m--> 684\u001b[0;31m             \u001b[0mWA\u001b[0m \u001b[0;34m=\u001b[0m \u001b[0mself\u001b[0m\u001b[0;34m.\u001b[0m\u001b[0m_W\u001b[0m\u001b[0;34m.\u001b[0m\u001b[0mdot\u001b[0m\u001b[0;34m(\u001b[0m\u001b[0mself\u001b[0m\u001b[0;34m.\u001b[0m\u001b[0mA\u001b[0m\u001b[0;34m)\u001b[0m\u001b[0;34m\u001b[0m\u001b[0;34m\u001b[0m\u001b[0m\n\u001b[0m\u001b[1;32m    685\u001b[0m \u001b[0;34m\u001b[0m\u001b[0m\n\u001b[1;32m    686\u001b[0m             \u001b[0mself\u001b[0m\u001b[0;34m.\u001b[0m\u001b[0m_W\u001b[0m \u001b[0;34m-=\u001b[0m \u001b[0meta\u001b[0m \u001b[0;34m*\u001b[0m \u001b[0;34m(\u001b[0m\u001b[0mWA\u001b[0m \u001b[0;34m-\u001b[0m \u001b[0mself\u001b[0m\u001b[0;34m.\u001b[0m\u001b[0mB\u001b[0m\u001b[0;34m)\u001b[0m\u001b[0;34m\u001b[0m\u001b[0;34m\u001b[0m\u001b[0m\n",
      "\u001b[0;31mKeyboardInterrupt\u001b[0m: "
     ]
    }
   ],
   "source": [
    "coherence = pd.DataFrame(columns=['nb_topics','coherence'])\n",
    "for nb_topics in range(2,42):\n",
    "    print(nb_topics)\n",
    "    nmf = Nmf(c, num_topics=nb_topics,id2word=t, kappa=0.1, chunksize=2000,passes=5, minimum_probability=0.01,\n",
    "        w_max_iter=300,\n",
    "        w_stop_condition=0.0001,\n",
    "        h_max_iter=100,\n",
    "        h_stop_condition=0.001,\n",
    "        eval_every=10,\n",
    "        normalize=True,\n",
    "        random_state=42)\n",
    "    coherencemodel = CoherenceModel(model=nmf, texts=global_prepro,dictionary=t, coherence='c_v')\n",
    "    coherence = coherence.append({'nb_topics':nb_topics,'coherence':coherencemodel.get_coherence()}, ignore_index=True)"
   ]
  },
  {
   "cell_type": "code",
   "execution_count": null,
   "metadata": {},
   "outputs": [],
   "source": [
    "coherence[coherence['coherence']==max(coherence['coherence'])]"
   ]
  },
  {
   "cell_type": "code",
   "execution_count": null,
   "metadata": {},
   "outputs": [],
   "source": [
    "plt.rcParams[\"figure.figsize\"] = (12,6)\n",
    "fig, ax = plt.subplots()\n",
    "limit=42; start=2; step=1;\n",
    "x = range(start, limit, step)\n",
    "plt.plot(x, coherence)\n",
    "plt.xticks(range(start, limit, step))\n",
    "plt.title('NMF')\n",
    "plt.xlabel(\"Num Topics\")\n",
    "plt.ylabel(\"Coherence score\")\n",
    "plt.legend((\"Choosing the best number of topics\"), loc='best')\n",
    "ax.grid()\n",
    "plt.show()"
   ]
  },
  {
   "cell_type": "markdown",
   "metadata": {},
   "source": [
    "# Conclusion sur nos modèles"
   ]
  },
  {
   "cell_type": "markdown",
   "metadata": {},
   "source": [
    "Malgré leurs points forts, nos modèles ont quelques limitations.\n",
    "* Pour le LDA:\n",
    "    - Il n'y a donc pas de métrique objective pour dire quel hyperparamètre est le meilleur\n",
    "    - Si la structure du corpus est plus complexe qu'une distribution multinomiale ou si les données d'entraînement ne sont pas suffisantes alors la classification sera très mauvaise\n",
    "    \n",
    "* Pour le HDP    \n",
    "\n",
    "\n",
    "* Pour le NMF:\n",
    "\n",
    "\n",
    "\n",
    "Nous avons également testé d'autres algorithmes tels que le LSA. mais la faible cohérence que nous avons obtenue (0.16), nous avons préféré l'écarter.\n",
    "* Pour le LSA:\n",
    "    - La représentation est dense, donc difficile à indexer sur la base de dimensions individuelles.\n",
    "    - Il s'agit d'un modèle linéaire, ce qui n'est pas la meilleure solution pour gérer les dépendances non linéaires.\n",
    "    - Il n’est pas facilement interprétable pour l’humain.\n",
    "    - Le choix du nombre de sujets est basé sur des heuristiques et nécessite une certaine expertise\n",
    "\n",
    "\n",
    "Finalement, Le meilleur algorithme que nous avons obtenu est le LDA. Cependant, cet algorithme a quand même une certaine limitation par rapport à nos données car il est plus utilisé pour traiter de longs textes alors qu'ici nous sommes en présence de textes assez cours."
   ]
  },
  {
   "cell_type": "code",
   "execution_count": null,
   "metadata": {},
   "outputs": [],
   "source": []
  }
 ],
 "metadata": {
  "kernelspec": {
   "display_name": "Python 3",
   "language": "python",
   "name": "python3"
  }
 },
 "nbformat": 4,
 "nbformat_minor": 4
}
